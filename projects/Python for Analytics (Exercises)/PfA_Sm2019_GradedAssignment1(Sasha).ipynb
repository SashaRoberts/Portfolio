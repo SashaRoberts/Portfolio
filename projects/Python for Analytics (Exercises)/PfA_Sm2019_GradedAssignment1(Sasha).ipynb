{
 "cells": [
  {
   "cell_type": "markdown",
   "metadata": {},
   "source": [
    "# PfA Spring 2019, Graded Assignment 1 due 6/14 @ 8pm\n",
    "\n",
    "**Please do not share this material on any platform or by any other means.**\n",
    "\n",
    "Objectives:\n",
    "    - Dictionary comprehension\n",
    "    - Improving coding, loops & list comprehension\n",
    "    - collections library\n",
    "    - Functions and recursive functions\n",
    "    - map and filter\n",
    "    - generator functions\n",
    "    \n",
    "### **Important Note:** \n",
    "\n",
    "* Purpose of the assignment is to assess your knowledge and command of the Python programming language and your ability to resolve common errors. Grading is based on the code you are submitting, not the formatting of the results. \n",
    "* Please use the examples as a guideline, you are not expected to have the same formatting as the example, unless it is a formatting question. \n",
    "* Remember, there are many ways to code that can lead to the correct answer, do not hesitate to exercise your own style and python programming coventions. "
   ]
  },
  {
   "cell_type": "markdown",
   "metadata": {},
   "source": [
    "## Question 1: Create this dictionary: {0: 0, 1: 1, 2: 8, 3: 27, 4: 64} using dictionary comprehension."
   ]
  },
  {
   "cell_type": "code",
   "execution_count": 10,
   "metadata": {},
   "outputs": [
    {
     "data": {
      "text/plain": [
       "{0: 0, 1: 1, 2: 8, 3: 27, 4: 64}"
      ]
     },
     "execution_count": 10,
     "metadata": {},
     "output_type": "execute_result"
    }
   ],
   "source": [
    "# add your code here\n",
    "\n",
    "new_dictionary = {n: n**3 for n in range(5)}\n",
    "new_dictionary"
   ]
  },
  {
   "cell_type": "markdown",
   "metadata": {},
   "source": [
    "## Question 2: Consider the following code, which uses a `while` loop and `found` flag to search a list of powers of 2 for the value of 2 raised to the fifth power (32)."
   ]
  },
  {
   "cell_type": "code",
   "execution_count": 11,
   "metadata": {},
   "outputs": [
    {
     "name": "stdout",
     "output_type": "stream",
     "text": [
      "32 at index 4\n"
     ]
    }
   ],
   "source": [
    "L = [1,2,4,8,32,64]\n",
    "X = 5\n",
    "\n",
    "found = False\n",
    "i = 0\n",
    "while not found and i<len(L):\n",
    "    if 2**X == L[i]: \n",
    "        found = True\n",
    "    else:\n",
    "        i = i+1\n",
    "if found: \n",
    "    print ((2 ** X),'at index',i)\n",
    "else:\n",
    "    print (X,'not found')"
   ]
  },
  {
   "cell_type": "markdown",
   "metadata": {},
   "source": [
    "**The code doesn't follow normal Python coding techniques, it is rather inefficient. Follow the steps below to improve the code.**"
   ]
  },
  {
   "cell_type": "markdown",
   "metadata": {},
   "source": [
    "**Step 1: Rewrite the code with a `while`  loop `else` clause to eliminate the `found` flag and final `if` statement.**"
   ]
  },
  {
   "cell_type": "code",
   "execution_count": 12,
   "metadata": {},
   "outputs": [
    {
     "name": "stdout",
     "output_type": "stream",
     "text": [
      "32 at index 4\n"
     ]
    }
   ],
   "source": [
    "# add your code here\n",
    "L = [1,2,4,8,32,64]\n",
    "X = 5\n",
    "\n",
    "i = 0\n",
    "while i < len(L):\n",
    "    if 2 ** X == L[i]:\n",
    "        print((2 ** X),'at index',i)\n",
    "        break\n",
    "    i = i+1\n",
    "else:\n",
    "    print (X,'not found')"
   ]
  },
  {
   "cell_type": "markdown",
   "metadata": {},
   "source": [
    "**Step 2: Rewrite the example to use a for loop with an `else` clause, to eliminate the explicit list-indexing logic.(Hint: to get the index of an item, use the list `index` method -- `L.index(X)` returns the offset of the first `X` in list `L`**"
   ]
  },
  {
   "cell_type": "code",
   "execution_count": 13,
   "metadata": {},
   "outputs": [
    {
     "name": "stdout",
     "output_type": "stream",
     "text": [
      "32 at index 4\n"
     ]
    }
   ],
   "source": [
    "# add your code here\n",
    "L = [1,2,4,8,32,64]\n",
    "X = 5\n",
    "\n",
    "for i in L:\n",
    "    if (2 ** X) == i:\n",
    "        print((2 ** X), 'at index', L.index(i))\n",
    "        break\n",
    "else:\n",
    "    print (X, 'not found')"
   ]
  },
  {
   "cell_type": "markdown",
   "metadata": {},
   "source": [
    "**Step 3: Remove the loop completely by rewriting the example with a simple `in` operator membership expression.**"
   ]
  },
  {
   "cell_type": "code",
   "execution_count": 14,
   "metadata": {},
   "outputs": [
    {
     "name": "stdout",
     "output_type": "stream",
     "text": [
      "32 at index 4\n"
     ]
    }
   ],
   "source": [
    "# add your code here\n",
    "L = [1,2,4,8,32,64]\n",
    "X = 5\n",
    "\n",
    "if (2 ** X) in L:\n",
    "    print((2 ** X), 'at index', L.index(2 ** X))\n",
    "else:\n",
    "    print(X, 'not found')"
   ]
  },
  {
   "cell_type": "markdown",
   "metadata": {},
   "source": [
    "**Step 4: Use a `for` loop and the list `append` method to generate the powers-of-2 list (`L`) instead of hardcoding a list literal**"
   ]
  },
  {
   "cell_type": "code",
   "execution_count": 15,
   "metadata": {},
   "outputs": [
    {
     "name": "stdout",
     "output_type": "stream",
     "text": [
      "[1, 2, 4, 8, 16, 32, 64]\n",
      "32 at index 5\n"
     ]
    }
   ],
   "source": [
    "# add your code here\n",
    "L = []\n",
    "X = 5\n",
    "\n",
    "for i in range(7): L.append(2 ** i)\n",
    "print(L)\n",
    "\n",
    "if (2 ** X) in L:\n",
    "    print((2 ** X), 'at index', L.index(2 ** X))\n",
    "else:\n",
    "    print(X, 'not found')"
   ]
  },
  {
   "cell_type": "markdown",
   "metadata": {},
   "source": [
    "**Step 5: Would a list comprehension help here?**"
   ]
  },
  {
   "cell_type": "code",
   "execution_count": 16,
   "metadata": {},
   "outputs": [
    {
     "name": "stdout",
     "output_type": "stream",
     "text": [
      "[1, 2, 4, 8, 16, 32, 64]\n",
      "32 at index 5\n"
     ]
    }
   ],
   "source": [
    "# add your code here\n",
    "X = 5\n",
    "L = [2**i for i in range(7)]\n",
    "\n",
    "print(L)\n",
    "\n",
    "if (2 ** X) in L:\n",
    "    print((2 ** X), 'at index', L.index(2 ** X))\n",
    "else:\n",
    "    print(X, 'not found')"
   ]
  },
  {
   "cell_type": "markdown",
   "metadata": {},
   "source": [
    "## Question 3: Explain `collections.Counter` and give an example."
   ]
  },
  {
   "cell_type": "code",
   "execution_count": 17,
   "metadata": {},
   "outputs": [],
   "source": [
    "# add your explation here\n",
    "# Counter is a subclass of dict. The elements are stored as dictionary keys and counts as dictionary values."
   ]
  },
  {
   "cell_type": "code",
   "execution_count": 18,
   "metadata": {},
   "outputs": [
    {
     "name": "stdout",
     "output_type": "stream",
     "text": [
      "Counter({'a': 2, 'e': 2, 'n': 1, ' ': 1, 'x': 1, 'm': 1, 'p': 1, 'l': 1})\n"
     ]
    }
   ],
   "source": [
    "# add your example code here\n",
    "#A string is a sequence of characters.\n",
    "#Counter the occurrence of each character and saves them as counts associated with a value.\n",
    "from collections import Counter\n",
    "a_string = \"an example\"\n",
    "item = Counter(a_string)\n",
    "print(item)"
   ]
  },
  {
   "cell_type": "markdown",
   "metadata": {},
   "source": [
    "## Question 4: Fill the missing pieces of the `count_even_numbers` function\n",
    "Fill `____` pieces of the `count_even_numbers` implemention in order to pass the assertions. You can assume that `numbers` argument is a list of integers.\n",
    "\n",
    "Note: `assertions` are simply boolean expressions that checks if the conditions return true or not. If it is true, the program does nothing and move to the next line of code. However, if it's false, the program stops and throws an error."
   ]
  },
  {
   "cell_type": "code",
   "execution_count": 19,
   "metadata": {},
   "outputs": [],
   "source": [
    "#____ count_even_numbers(numbers):\n",
    "#    count = 0\n",
    "#    for num in ____:\n",
    "#        if ____ % 2 == ____:\n",
    "#            count += ____\n",
    "#    _____ _____"
   ]
  },
  {
   "cell_type": "code",
   "execution_count": 20,
   "metadata": {},
   "outputs": [],
   "source": [
    "def count_even_numbers(numbers):\n",
    "    count = 0\n",
    "    for num in numbers:\n",
    "        if num % 2 == 0:\n",
    "            count += 1\n",
    "    return count"
   ]
  },
  {
   "cell_type": "code",
   "execution_count": 21,
   "metadata": {},
   "outputs": [],
   "source": [
    "assert count_even_numbers([1, 2, 3, 4, 5, 6]) == 3\n",
    "assert count_even_numbers([1, 3, 5, 7]) == 0\n",
    "assert count_even_numbers([-2, 2, -10, 8]) == 4"
   ]
  },
  {
   "cell_type": "markdown",
   "metadata": {},
   "source": [
    "## Question 5: Write a function that checks whether a number is in a given range (Inclusive of high and low)\n",
    "\n",
    "sample test: \n",
    "\n",
    "- assert range_check(7,5,7) == True\n",
    "- assert range_check(2,4,6) == False"
   ]
  },
  {
   "cell_type": "code",
   "execution_count": 22,
   "metadata": {},
   "outputs": [],
   "source": [
    "# add your code here\n",
    "def range_check(a,b,c):\n",
    "  if(a<b):\n",
    "    (c>=a and c<=b)\n",
    "    return True\n",
    "  elif(c>=b and c<=a):\n",
    "    return True"
   ]
  },
  {
   "cell_type": "code",
   "execution_count": 23,
   "metadata": {},
   "outputs": [
    {
     "ename": "AssertionError",
     "evalue": "",
     "output_type": "error",
     "traceback": [
      "\u001b[1;31m---------------------------------------------------------------------------\u001b[0m",
      "\u001b[1;31mAssertionError\u001b[0m                            Traceback (most recent call last)",
      "\u001b[1;32m<ipython-input-23-15bca8a0b627>\u001b[0m in \u001b[0;36m<module>\u001b[1;34m\u001b[0m\n\u001b[0;32m      1\u001b[0m \u001b[1;32massert\u001b[0m \u001b[0mrange_check\u001b[0m\u001b[1;33m(\u001b[0m\u001b[1;36m7\u001b[0m\u001b[1;33m,\u001b[0m\u001b[1;36m5\u001b[0m\u001b[1;33m,\u001b[0m\u001b[1;36m7\u001b[0m\u001b[1;33m)\u001b[0m \u001b[1;33m==\u001b[0m \u001b[1;32mTrue\u001b[0m\u001b[1;33m\u001b[0m\u001b[0m\n\u001b[1;32m----> 2\u001b[1;33m \u001b[1;32massert\u001b[0m \u001b[0mrange_check\u001b[0m\u001b[1;33m(\u001b[0m\u001b[1;36m2\u001b[0m\u001b[1;33m,\u001b[0m\u001b[1;36m4\u001b[0m\u001b[1;33m,\u001b[0m\u001b[1;36m6\u001b[0m\u001b[1;33m)\u001b[0m \u001b[1;33m==\u001b[0m \u001b[1;32mFalse\u001b[0m\u001b[1;33m\u001b[0m\u001b[0m\n\u001b[0m",
      "\u001b[1;31mAssertionError\u001b[0m: "
     ]
    }
   ],
   "source": [
    "assert range_check(7,5,7) == True\n",
    "assert range_check(2,4,6) == False"
   ]
  },
  {
   "cell_type": "markdown",
   "metadata": {},
   "source": [
    "## Question 6: Write a function where user is asked to make an entry, and the square of the entry is printed. Use a `while` loop with a `try`,`except`, `else` block to account for incorrect inputs."
   ]
  },
  {
   "cell_type": "code",
   "execution_count": 24,
   "metadata": {},
   "outputs": [
    {
     "name": "stdout",
     "output_type": "stream",
     "text": [
      "Enter a number: 9\n",
      "The value you entered squared is: 81\n"
     ]
    }
   ],
   "source": [
    "# add your code here\n",
    "\n",
    "while True:\n",
    "    try:\n",
    "        x=int(input('Enter a number: '))\n",
    "    except:\n",
    "        #handle exceptions\n",
    "        print ('You entered an invalid value.')\n",
    "    else:\n",
    "        #if there is no exception\n",
    "        print ('The value you entered squared is:', x**2)\n",
    "        break"
   ]
  },
  {
   "cell_type": "markdown",
   "metadata": {},
   "source": [
    "## Question 7: Write a list comprehension to calculate Fahrenheit of a Celcius temperature"
   ]
  },
  {
   "cell_type": "code",
   "execution_count": 25,
   "metadata": {},
   "outputs": [
    {
     "data": {
      "text/plain": [
       "[59.0, 93.2, 149.0, 73.4, 32.0]"
      ]
     },
     "execution_count": 25,
     "metadata": {},
     "output_type": "execute_result"
    }
   ],
   "source": [
    "Celcius = [15,34,65,23,0]\n",
    "Fahrenheit = [ i * 9/5 + 32 for i in Celcius ] # add your code here\n",
    "Fahrenheit"
   ]
  },
  {
   "cell_type": "markdown",
   "metadata": {},
   "source": [
    "## Question 8: Find all prime numbers between 1 and 100\n",
    "You can use a list comprehension, a function, recursion or any other method. Best would be for you to create a recursive function. \n",
    "A prime number is greater than 1. It's factors are 1 and itself."
   ]
  },
  {
   "cell_type": "code",
   "execution_count": 26,
   "metadata": {},
   "outputs": [
    {
     "name": "stdout",
     "output_type": "stream",
     "text": [
      "[2, 3, 5, 7, 11, 13, 17, 19, 23, 29, 31, 37, 41, 43, 47, 53, 59, 61, 67, 71, 73, 79, 83, 89, 97]"
     ]
    }
   ],
   "source": [
    "# Examples, a simple way\n",
    "n = 100\n",
    "# find all numbers that have factors of 2,3,4,5,6,7\n",
    "not_prime = [j for i in range(2,8) for j in range(i*2,n,i)]\n",
    "# find all numbers that are not in not_prime list\n",
    "prime_numbers = [x for x in range(2,n) if x not in not_prime]\n",
    "print (prime_numbers,end='')\n"
   ]
  },
  {
   "cell_type": "code",
   "execution_count": 27,
   "metadata": {},
   "outputs": [
    {
     "name": "stdout",
     "output_type": "stream",
     "text": [
      "2 3 5 7 11 13 17 19 23 29 31 37 41 43 47 53 59 61 67 71 73 79 83 89 97 "
     ]
    }
   ],
   "source": [
    "# add your code here\n",
    "\n",
    "def Prime(n):\n",
    "    if(n == 2):\n",
    "        print(2 , end = \" \")\n",
    "    else :\n",
    "        x = 1\n",
    "        for i in range(2,n):\n",
    "            if(n%i == 0):\n",
    "                x = 0\n",
    "        Prime(n-1)\n",
    "        if(x == 1):\n",
    "            print(n , end = \" \")\n",
    "\n",
    "Prime(100)"
   ]
  },
  {
   "cell_type": "markdown",
   "metadata": {},
   "source": [
    "## Question 9: Use the `map` function to find the length of each word in a  phrase and return the values in a list.\n",
    "The function will have an input of a string, and output a list of integers.\n",
    "```python\n",
    "len_of_strings('Find the lenght of each word in this phrase')\n",
    "[4, 3, 6, 2, 4, 4, 2, 4, 6]\n",
    "```"
   ]
  },
  {
   "cell_type": "code",
   "execution_count": 30,
   "metadata": {},
   "outputs": [
    {
     "name": "stdout",
     "output_type": "stream",
     "text": [
      "Enter string: Find the lenght of each word in this phrase\n",
      "[4, 3, 6, 2, 4, 4, 2, 4, 6]\n"
     ]
    }
   ],
   "source": [
    "# add your code here\n",
    "\n",
    "def len_of_strings(n):\n",
    "    return len(n)\n",
    "\n",
    "# List of strings \n",
    "l = input('Enter string: ')\n",
    "#split string into word list\n",
    "word = l.split()\n",
    "test = list(map(len_of_strings, word)) \n",
    "print(test) "
   ]
  },
  {
   "cell_type": "markdown",
   "metadata": {},
   "source": [
    "## Question 10: Create a function that uses `filter` to return words from a list of words that starts with a given letter.\n",
    "The function will have an input of a string, and output a list of integers. example:\n",
    "```python\n",
    "find_words(['lettuce','beans','apple','cat','dog','boy','girl','chicago','type'],'b')\n",
    "['beans', 'boy']\n",
    "```"
   ]
  },
  {
   "cell_type": "code",
   "execution_count": 31,
   "metadata": {},
   "outputs": [
    {
     "name": "stdout",
     "output_type": "stream",
     "text": [
      "['beans', 'boy']\n"
     ]
    }
   ],
   "source": [
    "# add your code here\n",
    "\n",
    "#def find_words(input_list,letter):\n",
    "#    words = []\n",
    "#    for k in input_list:\n",
    "#        if k.startswith(letter):\n",
    "#            words.append(k)\n",
    "#    print(words)\n",
    "            \n",
    "#find_words(['lettuce','beans','apple','cat','dog','boy','girl','chicago','type'],'b')"
   ]
  },
  {
   "cell_type": "code",
   "execution_count": 32,
   "metadata": {},
   "outputs": [
    {
     "name": "stdout",
     "output_type": "stream",
     "text": [
      "beans\n",
      "boy\n"
     ]
    }
   ],
   "source": [
    "#seq = ['lettuce','beans','apple','cat','dog','boy','girl','chicago','type']\n",
    "\n",
    "#def find_words(input_list):\n",
    "#    if input_list[0].lower() == 'b':\n",
    "#        return True\n",
    "#    else:\n",
    "#        return False\n",
    "\n",
    "#filtered_list = filter(find_words, seq)\n",
    "\n",
    "#for i in filtered_list:\n",
    "#    print(i)"
   ]
  },
  {
   "cell_type": "code",
   "execution_count": 33,
   "metadata": {},
   "outputs": [
    {
     "name": "stdout",
     "output_type": "stream",
     "text": [
      "['beans', 'boy']\n"
     ]
    }
   ],
   "source": [
    "#FINAL SOLUTION\n",
    "def find_words(input_list, letter):\n",
    "    result = filter(lambda x : x[0] == letter, input_list)\n",
    "    print(list(result))\n",
    "    \n",
    "find_words(['lettuce','beans','apple','cat','dog','boy','girl','chicago','type'],'b')"
   ]
  },
  {
   "cell_type": "markdown",
   "metadata": {},
   "source": [
    "## Question 11: Explain a use case for a generator using a `yield` statement where you would not want to use a normal function with a return statement."
   ]
  },
  {
   "cell_type": "markdown",
   "metadata": {},
   "source": [
    "Answer 11: Return gives a specified value back. Yield can produce a sequence of values.\n",
    "\n",
    "\n",
    "add your explanation here:\n",
    "\n",
    "I read several examples. Functions that use yield are called generators. Consider function1 and function2.\n",
    "\n",
    "function1 iterates over once producing a range of squared values. These are not stored in memory. Calculations happen on the fly.\n",
    "\n",
    "For function2 the code doesn't run. Instead, it creates a generator object. The generator object is run in the following FOR loop. Code from the function is run until it hits yield--at that point it returns the 1st value from the loop. Every additional call will run the loop and return the next value until there is no value to return."
   ]
  },
  {
   "cell_type": "code",
   "execution_count": 45,
   "metadata": {},
   "outputs": [
    {
     "name": "stdout",
     "output_type": "stream",
     "text": [
      "<class 'generator'>\n",
      "0\n",
      "1\n",
      "4\n",
      "9\n",
      "16\n"
     ]
    }
   ],
   "source": [
    "function1 = (x**2 for x in range(5))\n",
    "\n",
    "print(type(function1))\n",
    "\n",
    "for i in function1:\n",
    "    print(i)"
   ]
  },
  {
   "cell_type": "code",
   "execution_count": 42,
   "metadata": {},
   "outputs": [
    {
     "name": "stdout",
     "output_type": "stream",
     "text": [
      "<generator object function2 at 0x000002A5536EA570>\n",
      "0\n",
      "1\n",
      "4\n",
      "9\n",
      "16\n"
     ]
    }
   ],
   "source": [
    "def function2():\n",
    "    list = range(5)\n",
    "    for i in list:\n",
    "        yield i*i\n",
    "\n",
    "x = function2() # create a generator\n",
    "print(x) # mygenerator is an object!\n",
    "\n",
    "for i in x:\n",
    "    print(i)"
   ]
  },
  {
   "cell_type": "markdown",
   "metadata": {},
   "source": [
    "*** Graded Assignment COMPLETE ***"
   ]
  },
  {
   "cell_type": "code",
   "execution_count": null,
   "metadata": {},
   "outputs": [],
   "source": []
  }
 ],
 "metadata": {
  "kernelspec": {
   "display_name": "Python 3",
   "language": "python",
   "name": "python3"
  },
  "language_info": {
   "codemirror_mode": {
    "name": "ipython",
    "version": 3
   },
   "file_extension": ".py",
   "mimetype": "text/x-python",
   "name": "python",
   "nbconvert_exporter": "python",
   "pygments_lexer": "ipython3",
   "version": "3.6.6"
  }
 },
 "nbformat": 4,
 "nbformat_minor": 2
}
