{
 "cells": [
  {
   "cell_type": "code",
   "execution_count": 1,
   "metadata": {},
   "outputs": [],
   "source": [
    "import numpy as np \n",
    "import pandas as pd \n",
    "\n",
    "import seaborn as sns\n",
    "%matplotlib inline\n",
    "from matplotlib import pyplot as plt\n",
    "from matplotlib import style"
   ]
  },
  {
   "cell_type": "code",
   "execution_count": 2,
   "metadata": {},
   "outputs": [],
   "source": [
    "test_df = pd.read_csv(\"loan_holdout.csv\",low_memory=False)\n",
    "train_df = pd.read_csv(\"loan_data.csv\",low_memory=False)"
   ]
  },
  {
   "cell_type": "code",
   "execution_count": 3,
   "metadata": {},
   "outputs": [
    {
     "name": "stdout",
     "output_type": "stream",
     "text": [
      "<class 'pandas.core.frame.DataFrame'>\n",
      "RangeIndex: 400000 entries, 0 to 399999\n",
      "Data columns (total 32 columns):\n",
      "X1     338990 non-null object\n",
      "X2     399999 non-null float64\n",
      "X3     399999 non-null float64\n",
      "X4     399999 non-null object\n",
      "X5     399999 non-null object\n",
      "X6     399999 non-null object\n",
      "X7     399999 non-null object\n",
      "X8     338730 non-null object\n",
      "X9     338730 non-null object\n",
      "X10    376014 non-null object\n",
      "X11    382462 non-null object\n",
      "X12    338639 non-null object\n",
      "X13    338972 non-null float64\n",
      "X14    399999 non-null object\n",
      "X15    399999 non-null object\n",
      "X16    123560 non-null object\n",
      "X17    399999 non-null object\n",
      "X18    399981 non-null object\n",
      "X19    399999 non-null object\n",
      "X20    399999 non-null object\n",
      "X21    399999 non-null float64\n",
      "X22    399999 non-null float64\n",
      "X23    399999 non-null object\n",
      "X24    399999 non-null float64\n",
      "X25    181198 non-null float64\n",
      "X26    51155 non-null float64\n",
      "X27    399999 non-null float64\n",
      "X28    399999 non-null float64\n",
      "X29    399999 non-null float64\n",
      "X30    399733 non-null object\n",
      "X31    399999 non-null float64\n",
      "X32    399999 non-null object\n",
      "dtypes: float64(12), object(20)\n",
      "memory usage: 97.7+ MB\n"
     ]
    }
   ],
   "source": [
    "train_df.info()"
   ]
  },
  {
   "cell_type": "code",
   "execution_count": 4,
   "metadata": {},
   "outputs": [
    {
     "data": {
      "text/html": [
       "<div>\n",
       "<style scoped>\n",
       "    .dataframe tbody tr th:only-of-type {\n",
       "        vertical-align: middle;\n",
       "    }\n",
       "\n",
       "    .dataframe tbody tr th {\n",
       "        vertical-align: top;\n",
       "    }\n",
       "\n",
       "    .dataframe thead th {\n",
       "        text-align: right;\n",
       "    }\n",
       "</style>\n",
       "<table border=\"1\" class=\"dataframe\">\n",
       "  <thead>\n",
       "    <tr style=\"text-align: right;\">\n",
       "      <th></th>\n",
       "      <th>X1</th>\n",
       "      <th>X2</th>\n",
       "      <th>X3</th>\n",
       "      <th>X4</th>\n",
       "      <th>X5</th>\n",
       "      <th>X6</th>\n",
       "      <th>X7</th>\n",
       "      <th>X8</th>\n",
       "      <th>X9</th>\n",
       "      <th>X10</th>\n",
       "      <th>...</th>\n",
       "      <th>X23</th>\n",
       "      <th>X24</th>\n",
       "      <th>X25</th>\n",
       "      <th>X26</th>\n",
       "      <th>X27</th>\n",
       "      <th>X28</th>\n",
       "      <th>X29</th>\n",
       "      <th>X30</th>\n",
       "      <th>X31</th>\n",
       "      <th>X32</th>\n",
       "    </tr>\n",
       "  </thead>\n",
       "  <tbody>\n",
       "    <tr>\n",
       "      <td>0</td>\n",
       "      <td>11.89%</td>\n",
       "      <td>54734.0</td>\n",
       "      <td>80364.0</td>\n",
       "      <td>$25,000</td>\n",
       "      <td>$25,000</td>\n",
       "      <td>$19,080</td>\n",
       "      <td>36 months</td>\n",
       "      <td>B</td>\n",
       "      <td>B4</td>\n",
       "      <td>NaN</td>\n",
       "      <td>...</td>\n",
       "      <td>Feb-94</td>\n",
       "      <td>0.0</td>\n",
       "      <td>NaN</td>\n",
       "      <td>NaN</td>\n",
       "      <td>10.0</td>\n",
       "      <td>0.0</td>\n",
       "      <td>28854.0</td>\n",
       "      <td>52.10%</td>\n",
       "      <td>42.0</td>\n",
       "      <td>f</td>\n",
       "    </tr>\n",
       "    <tr>\n",
       "      <td>1</td>\n",
       "      <td>10.71%</td>\n",
       "      <td>55742.0</td>\n",
       "      <td>114426.0</td>\n",
       "      <td>$7,000</td>\n",
       "      <td>$7,000</td>\n",
       "      <td>$673</td>\n",
       "      <td>36 months</td>\n",
       "      <td>B</td>\n",
       "      <td>B5</td>\n",
       "      <td>CNN</td>\n",
       "      <td>...</td>\n",
       "      <td>Oct-00</td>\n",
       "      <td>0.0</td>\n",
       "      <td>NaN</td>\n",
       "      <td>NaN</td>\n",
       "      <td>7.0</td>\n",
       "      <td>0.0</td>\n",
       "      <td>33623.0</td>\n",
       "      <td>76.70%</td>\n",
       "      <td>7.0</td>\n",
       "      <td>f</td>\n",
       "    </tr>\n",
       "    <tr>\n",
       "      <td>2</td>\n",
       "      <td>16.99%</td>\n",
       "      <td>57167.0</td>\n",
       "      <td>137225.0</td>\n",
       "      <td>$25,000</td>\n",
       "      <td>$25,000</td>\n",
       "      <td>$24,725</td>\n",
       "      <td>36 months</td>\n",
       "      <td>D</td>\n",
       "      <td>D3</td>\n",
       "      <td>Web Programmer</td>\n",
       "      <td>...</td>\n",
       "      <td>Jun-00</td>\n",
       "      <td>0.0</td>\n",
       "      <td>41.0</td>\n",
       "      <td>NaN</td>\n",
       "      <td>10.0</td>\n",
       "      <td>0.0</td>\n",
       "      <td>19878.0</td>\n",
       "      <td>66.30%</td>\n",
       "      <td>17.0</td>\n",
       "      <td>f</td>\n",
       "    </tr>\n",
       "    <tr>\n",
       "      <td>3</td>\n",
       "      <td>13.11%</td>\n",
       "      <td>57245.0</td>\n",
       "      <td>138150.0</td>\n",
       "      <td>$1,200</td>\n",
       "      <td>$1,200</td>\n",
       "      <td>$1,200</td>\n",
       "      <td>36 months</td>\n",
       "      <td>C</td>\n",
       "      <td>C2</td>\n",
       "      <td>city of beaumont texas</td>\n",
       "      <td>...</td>\n",
       "      <td>Jan-85</td>\n",
       "      <td>0.0</td>\n",
       "      <td>64.0</td>\n",
       "      <td>NaN</td>\n",
       "      <td>5.0</td>\n",
       "      <td>0.0</td>\n",
       "      <td>2584.0</td>\n",
       "      <td>40.40%</td>\n",
       "      <td>31.0</td>\n",
       "      <td>f</td>\n",
       "    </tr>\n",
       "    <tr>\n",
       "      <td>4</td>\n",
       "      <td>13.57%</td>\n",
       "      <td>57416.0</td>\n",
       "      <td>139635.0</td>\n",
       "      <td>$10,800</td>\n",
       "      <td>$10,800</td>\n",
       "      <td>$10,692</td>\n",
       "      <td>36 months</td>\n",
       "      <td>C</td>\n",
       "      <td>C3</td>\n",
       "      <td>State Farm Insurance</td>\n",
       "      <td>...</td>\n",
       "      <td>Dec-96</td>\n",
       "      <td>1.0</td>\n",
       "      <td>58.0</td>\n",
       "      <td>NaN</td>\n",
       "      <td>14.0</td>\n",
       "      <td>0.0</td>\n",
       "      <td>3511.0</td>\n",
       "      <td>25.60%</td>\n",
       "      <td>40.0</td>\n",
       "      <td>f</td>\n",
       "    </tr>\n",
       "  </tbody>\n",
       "</table>\n",
       "<p>5 rows × 32 columns</p>\n",
       "</div>"
      ],
      "text/plain": [
       "       X1       X2        X3       X4       X5       X6          X7 X8  X9  \\\n",
       "0  11.89%  54734.0   80364.0  $25,000  $25,000  $19,080   36 months  B  B4   \n",
       "1  10.71%  55742.0  114426.0   $7,000   $7,000     $673   36 months  B  B5   \n",
       "2  16.99%  57167.0  137225.0  $25,000  $25,000  $24,725   36 months  D  D3   \n",
       "3  13.11%  57245.0  138150.0   $1,200   $1,200   $1,200   36 months  C  C2   \n",
       "4  13.57%  57416.0  139635.0  $10,800  $10,800  $10,692   36 months  C  C3   \n",
       "\n",
       "                      X10  ...     X23  X24   X25 X26   X27  X28      X29  \\\n",
       "0                     NaN  ...  Feb-94  0.0   NaN NaN  10.0  0.0  28854.0   \n",
       "1                     CNN  ...  Oct-00  0.0   NaN NaN   7.0  0.0  33623.0   \n",
       "2          Web Programmer  ...  Jun-00  0.0  41.0 NaN  10.0  0.0  19878.0   \n",
       "3  city of beaumont texas  ...  Jan-85  0.0  64.0 NaN   5.0  0.0   2584.0   \n",
       "4    State Farm Insurance  ...  Dec-96  1.0  58.0 NaN  14.0  0.0   3511.0   \n",
       "\n",
       "      X30   X31 X32  \n",
       "0  52.10%  42.0   f  \n",
       "1  76.70%   7.0   f  \n",
       "2  66.30%  17.0   f  \n",
       "3  40.40%  31.0   f  \n",
       "4  25.60%  40.0   f  \n",
       "\n",
       "[5 rows x 32 columns]"
      ]
     },
     "execution_count": 4,
     "metadata": {},
     "output_type": "execute_result"
    }
   ],
   "source": [
    "train_df.head()"
   ]
  },
  {
   "cell_type": "code",
   "execution_count": 5,
   "metadata": {},
   "outputs": [
    {
     "data": {
      "text/html": [
       "<div>\n",
       "<style scoped>\n",
       "    .dataframe tbody tr th:only-of-type {\n",
       "        vertical-align: middle;\n",
       "    }\n",
       "\n",
       "    .dataframe tbody tr th {\n",
       "        vertical-align: top;\n",
       "    }\n",
       "\n",
       "    .dataframe thead th {\n",
       "        text-align: right;\n",
       "    }\n",
       "</style>\n",
       "<table border=\"1\" class=\"dataframe\">\n",
       "  <thead>\n",
       "    <tr style=\"text-align: right;\">\n",
       "      <th></th>\n",
       "      <th>X1</th>\n",
       "      <th>X2</th>\n",
       "      <th>X3</th>\n",
       "      <th>X4</th>\n",
       "      <th>X5</th>\n",
       "      <th>X6</th>\n",
       "      <th>X7</th>\n",
       "      <th>X8</th>\n",
       "      <th>X9</th>\n",
       "      <th>X10</th>\n",
       "      <th>...</th>\n",
       "      <th>X23</th>\n",
       "      <th>X24</th>\n",
       "      <th>X25</th>\n",
       "      <th>X26</th>\n",
       "      <th>X27</th>\n",
       "      <th>X28</th>\n",
       "      <th>X29</th>\n",
       "      <th>X30</th>\n",
       "      <th>X31</th>\n",
       "      <th>X32</th>\n",
       "    </tr>\n",
       "  </thead>\n",
       "  <tbody>\n",
       "    <tr>\n",
       "      <td>399995</td>\n",
       "      <td>12.99%</td>\n",
       "      <td>28753086.0</td>\n",
       "      <td>31226222.0</td>\n",
       "      <td>$10,000</td>\n",
       "      <td>$10,000</td>\n",
       "      <td>$10,000</td>\n",
       "      <td>60 months</td>\n",
       "      <td>C</td>\n",
       "      <td>C1</td>\n",
       "      <td>Administrative Assistant</td>\n",
       "      <td>...</td>\n",
       "      <td>Nov-03</td>\n",
       "      <td>0.0</td>\n",
       "      <td>26.0</td>\n",
       "      <td>NaN</td>\n",
       "      <td>9.0</td>\n",
       "      <td>0.0</td>\n",
       "      <td>10268.0</td>\n",
       "      <td>76.10%</td>\n",
       "      <td>20.0</td>\n",
       "      <td>w</td>\n",
       "    </tr>\n",
       "    <tr>\n",
       "      <td>399996</td>\n",
       "      <td>16.29%</td>\n",
       "      <td>28753097.0</td>\n",
       "      <td>31226234.0</td>\n",
       "      <td>$13,150</td>\n",
       "      <td>$13,150</td>\n",
       "      <td>$13,150</td>\n",
       "      <td>36 months</td>\n",
       "      <td>D</td>\n",
       "      <td>D2</td>\n",
       "      <td>helper</td>\n",
       "      <td>...</td>\n",
       "      <td>Oct-07</td>\n",
       "      <td>0.0</td>\n",
       "      <td>38.0</td>\n",
       "      <td>NaN</td>\n",
       "      <td>11.0</td>\n",
       "      <td>0.0</td>\n",
       "      <td>8931.0</td>\n",
       "      <td>37.80%</td>\n",
       "      <td>21.0</td>\n",
       "      <td>f</td>\n",
       "    </tr>\n",
       "    <tr>\n",
       "      <td>399997</td>\n",
       "      <td>10.99%</td>\n",
       "      <td>28753099.0</td>\n",
       "      <td>31226236.0</td>\n",
       "      <td>$20,000</td>\n",
       "      <td>$20,000</td>\n",
       "      <td>$20,000</td>\n",
       "      <td>60 months</td>\n",
       "      <td>B</td>\n",
       "      <td>B3</td>\n",
       "      <td>Facility Administrator</td>\n",
       "      <td>...</td>\n",
       "      <td>Oct-04</td>\n",
       "      <td>0.0</td>\n",
       "      <td>63.0</td>\n",
       "      <td>NaN</td>\n",
       "      <td>14.0</td>\n",
       "      <td>0.0</td>\n",
       "      <td>28976.0</td>\n",
       "      <td>69.30%</td>\n",
       "      <td>48.0</td>\n",
       "      <td>w</td>\n",
       "    </tr>\n",
       "    <tr>\n",
       "      <td>399998</td>\n",
       "      <td>17.57%</td>\n",
       "      <td>28753118.0</td>\n",
       "      <td>31226256.0</td>\n",
       "      <td>$18,475</td>\n",
       "      <td>$18,475</td>\n",
       "      <td>$18,475</td>\n",
       "      <td>60 months</td>\n",
       "      <td>D</td>\n",
       "      <td>D4</td>\n",
       "      <td>Senior Creative Designer/Ad Sales</td>\n",
       "      <td>...</td>\n",
       "      <td>Mar-94</td>\n",
       "      <td>0.0</td>\n",
       "      <td>NaN</td>\n",
       "      <td>NaN</td>\n",
       "      <td>19.0</td>\n",
       "      <td>0.0</td>\n",
       "      <td>11982.0</td>\n",
       "      <td>39%</td>\n",
       "      <td>31.0</td>\n",
       "      <td>f</td>\n",
       "    </tr>\n",
       "    <tr>\n",
       "      <td>399999</td>\n",
       "      <td>13.35%</td>\n",
       "      <td>28753146.0</td>\n",
       "      <td>31226285.0</td>\n",
       "      <td>$16,000</td>\n",
       "      <td>$16,000</td>\n",
       "      <td>$16,000</td>\n",
       "      <td>36 months</td>\n",
       "      <td>C</td>\n",
       "      <td>C2</td>\n",
       "      <td>Electrician</td>\n",
       "      <td>...</td>\n",
       "      <td>Sep-10</td>\n",
       "      <td>0.0</td>\n",
       "      <td>NaN</td>\n",
       "      <td>NaN</td>\n",
       "      <td>9.0</td>\n",
       "      <td>0.0</td>\n",
       "      <td>3864.0</td>\n",
       "      <td>53.70%</td>\n",
       "      <td>12.0</td>\n",
       "      <td>f</td>\n",
       "    </tr>\n",
       "  </tbody>\n",
       "</table>\n",
       "<p>5 rows × 32 columns</p>\n",
       "</div>"
      ],
      "text/plain": [
       "            X1          X2          X3       X4       X5       X6          X7  \\\n",
       "399995  12.99%  28753086.0  31226222.0  $10,000  $10,000  $10,000   60 months   \n",
       "399996  16.29%  28753097.0  31226234.0  $13,150  $13,150  $13,150   36 months   \n",
       "399997  10.99%  28753099.0  31226236.0  $20,000  $20,000  $20,000   60 months   \n",
       "399998  17.57%  28753118.0  31226256.0  $18,475  $18,475  $18,475   60 months   \n",
       "399999  13.35%  28753146.0  31226285.0  $16,000  $16,000  $16,000   36 months   \n",
       "\n",
       "       X8  X9                                X10  ...     X23  X24   X25 X26  \\\n",
       "399995  C  C1           Administrative Assistant  ...  Nov-03  0.0  26.0 NaN   \n",
       "399996  D  D2                             helper  ...  Oct-07  0.0  38.0 NaN   \n",
       "399997  B  B3             Facility Administrator  ...  Oct-04  0.0  63.0 NaN   \n",
       "399998  D  D4  Senior Creative Designer/Ad Sales  ...  Mar-94  0.0   NaN NaN   \n",
       "399999  C  C2                        Electrician  ...  Sep-10  0.0   NaN NaN   \n",
       "\n",
       "         X27  X28      X29     X30   X31 X32  \n",
       "399995   9.0  0.0  10268.0  76.10%  20.0   w  \n",
       "399996  11.0  0.0   8931.0  37.80%  21.0   f  \n",
       "399997  14.0  0.0  28976.0  69.30%  48.0   w  \n",
       "399998  19.0  0.0  11982.0     39%  31.0   f  \n",
       "399999   9.0  0.0   3864.0  53.70%  12.0   f  \n",
       "\n",
       "[5 rows x 32 columns]"
      ]
     },
     "execution_count": 5,
     "metadata": {},
     "output_type": "execute_result"
    }
   ],
   "source": [
    "train_df.tail()"
   ]
  },
  {
   "cell_type": "code",
   "execution_count": 6,
   "metadata": {},
   "outputs": [],
   "source": [
    "#I didn't have time to handle the text/self-filled data. Some of these are unique values.\n",
    "\n",
    "#A unique id assigned for the borrower.\n",
    "train_df = train_df.drop(['X3'], axis=1)\n",
    "test_df = test_df.drop(['X3'], axis=1)\n",
    "#Employer or job title (self-filled)\n",
    "train_df = train_df.drop(['X10'], axis=1)\n",
    "test_df = test_df.drop(['X10'], axis=1)\n",
    "#Reason for loan provided by borrower\n",
    "train_df = train_df.drop(['X16'], axis=1)\n",
    "test_df = test_df.drop(['X16'], axis=1)\n",
    "#Loan title, as provided by borrower\n",
    "train_df = train_df.drop(['X18'], axis=1)\n",
    "test_df = test_df.drop(['X18'], axis=1)"
   ]
  },
  {
   "cell_type": "code",
   "execution_count": 7,
   "metadata": {
    "scrolled": false
   },
   "outputs": [
    {
     "data": {
      "text/html": [
       "<div>\n",
       "<style scoped>\n",
       "    .dataframe tbody tr th:only-of-type {\n",
       "        vertical-align: middle;\n",
       "    }\n",
       "\n",
       "    .dataframe tbody tr th {\n",
       "        vertical-align: top;\n",
       "    }\n",
       "\n",
       "    .dataframe thead th {\n",
       "        text-align: right;\n",
       "    }\n",
       "</style>\n",
       "<table border=\"1\" class=\"dataframe\">\n",
       "  <thead>\n",
       "    <tr style=\"text-align: right;\">\n",
       "      <th></th>\n",
       "      <th>Total</th>\n",
       "      <th>%</th>\n",
       "    </tr>\n",
       "  </thead>\n",
       "  <tbody>\n",
       "    <tr>\n",
       "      <td>X1</td>\n",
       "      <td>61010</td>\n",
       "      <td>15.25</td>\n",
       "    </tr>\n",
       "    <tr>\n",
       "      <td>X2</td>\n",
       "      <td>1</td>\n",
       "      <td>0.00</td>\n",
       "    </tr>\n",
       "    <tr>\n",
       "      <td>X4</td>\n",
       "      <td>1</td>\n",
       "      <td>0.00</td>\n",
       "    </tr>\n",
       "    <tr>\n",
       "      <td>X5</td>\n",
       "      <td>1</td>\n",
       "      <td>0.00</td>\n",
       "    </tr>\n",
       "    <tr>\n",
       "      <td>X6</td>\n",
       "      <td>1</td>\n",
       "      <td>0.00</td>\n",
       "    </tr>\n",
       "    <tr>\n",
       "      <td>X7</td>\n",
       "      <td>1</td>\n",
       "      <td>0.00</td>\n",
       "    </tr>\n",
       "    <tr>\n",
       "      <td>X8</td>\n",
       "      <td>61270</td>\n",
       "      <td>15.32</td>\n",
       "    </tr>\n",
       "    <tr>\n",
       "      <td>X9</td>\n",
       "      <td>61270</td>\n",
       "      <td>15.32</td>\n",
       "    </tr>\n",
       "    <tr>\n",
       "      <td>X11</td>\n",
       "      <td>17538</td>\n",
       "      <td>4.38</td>\n",
       "    </tr>\n",
       "    <tr>\n",
       "      <td>X12</td>\n",
       "      <td>61361</td>\n",
       "      <td>15.34</td>\n",
       "    </tr>\n",
       "    <tr>\n",
       "      <td>X13</td>\n",
       "      <td>61028</td>\n",
       "      <td>15.26</td>\n",
       "    </tr>\n",
       "    <tr>\n",
       "      <td>X14</td>\n",
       "      <td>1</td>\n",
       "      <td>0.00</td>\n",
       "    </tr>\n",
       "    <tr>\n",
       "      <td>X15</td>\n",
       "      <td>1</td>\n",
       "      <td>0.00</td>\n",
       "    </tr>\n",
       "    <tr>\n",
       "      <td>X17</td>\n",
       "      <td>1</td>\n",
       "      <td>0.00</td>\n",
       "    </tr>\n",
       "    <tr>\n",
       "      <td>X19</td>\n",
       "      <td>1</td>\n",
       "      <td>0.00</td>\n",
       "    </tr>\n",
       "    <tr>\n",
       "      <td>X20</td>\n",
       "      <td>1</td>\n",
       "      <td>0.00</td>\n",
       "    </tr>\n",
       "    <tr>\n",
       "      <td>X21</td>\n",
       "      <td>1</td>\n",
       "      <td>0.00</td>\n",
       "    </tr>\n",
       "    <tr>\n",
       "      <td>X22</td>\n",
       "      <td>1</td>\n",
       "      <td>0.00</td>\n",
       "    </tr>\n",
       "    <tr>\n",
       "      <td>X23</td>\n",
       "      <td>1</td>\n",
       "      <td>0.00</td>\n",
       "    </tr>\n",
       "    <tr>\n",
       "      <td>X24</td>\n",
       "      <td>1</td>\n",
       "      <td>0.00</td>\n",
       "    </tr>\n",
       "    <tr>\n",
       "      <td>X25</td>\n",
       "      <td>218802</td>\n",
       "      <td>54.70</td>\n",
       "    </tr>\n",
       "    <tr>\n",
       "      <td>X26</td>\n",
       "      <td>348845</td>\n",
       "      <td>87.21</td>\n",
       "    </tr>\n",
       "    <tr>\n",
       "      <td>X27</td>\n",
       "      <td>1</td>\n",
       "      <td>0.00</td>\n",
       "    </tr>\n",
       "    <tr>\n",
       "      <td>X28</td>\n",
       "      <td>1</td>\n",
       "      <td>0.00</td>\n",
       "    </tr>\n",
       "    <tr>\n",
       "      <td>X29</td>\n",
       "      <td>1</td>\n",
       "      <td>0.00</td>\n",
       "    </tr>\n",
       "    <tr>\n",
       "      <td>X30</td>\n",
       "      <td>267</td>\n",
       "      <td>0.07</td>\n",
       "    </tr>\n",
       "    <tr>\n",
       "      <td>X31</td>\n",
       "      <td>1</td>\n",
       "      <td>0.00</td>\n",
       "    </tr>\n",
       "    <tr>\n",
       "      <td>X32</td>\n",
       "      <td>1</td>\n",
       "      <td>0.00</td>\n",
       "    </tr>\n",
       "  </tbody>\n",
       "</table>\n",
       "</div>"
      ],
      "text/plain": [
       "      Total      %\n",
       "X1    61010  15.25\n",
       "X2        1   0.00\n",
       "X4        1   0.00\n",
       "X5        1   0.00\n",
       "X6        1   0.00\n",
       "X7        1   0.00\n",
       "X8    61270  15.32\n",
       "X9    61270  15.32\n",
       "X11   17538   4.38\n",
       "X12   61361  15.34\n",
       "X13   61028  15.26\n",
       "X14       1   0.00\n",
       "X15       1   0.00\n",
       "X17       1   0.00\n",
       "X19       1   0.00\n",
       "X20       1   0.00\n",
       "X21       1   0.00\n",
       "X22       1   0.00\n",
       "X23       1   0.00\n",
       "X24       1   0.00\n",
       "X25  218802  54.70\n",
       "X26  348845  87.21\n",
       "X27       1   0.00\n",
       "X28       1   0.00\n",
       "X29       1   0.00\n",
       "X30     267   0.07\n",
       "X31       1   0.00\n",
       "X32       1   0.00"
      ]
     },
     "execution_count": 7,
     "metadata": {},
     "output_type": "execute_result"
    }
   ],
   "source": [
    "total = train_df.isnull().sum()\n",
    "percent_1 = train_df.isnull().sum()/train_df.isnull().count()*100\n",
    "percent_2 = (round(percent_1, 2))\n",
    "missing_data = pd.concat([total, percent_2], axis=1, keys=['Total', '%'])\n",
    "missing_data"
   ]
  },
  {
   "cell_type": "code",
   "execution_count": 8,
   "metadata": {},
   "outputs": [
    {
     "data": {
      "text/plain": [
       "(400000, 28)"
      ]
     },
     "execution_count": 8,
     "metadata": {},
     "output_type": "execute_result"
    }
   ],
   "source": [
    "train_df.shape"
   ]
  },
  {
   "cell_type": "code",
   "execution_count": 9,
   "metadata": {},
   "outputs": [
    {
     "data": {
      "text/plain": [
       "(338990, 28)"
      ]
     },
     "execution_count": 9,
     "metadata": {},
     "output_type": "execute_result"
    }
   ],
   "source": [
    "#drop missing Interest Rate on the loan\n",
    "train_df = train_df.dropna(subset=['X1'])\n",
    "train_df.shape"
   ]
  },
  {
   "cell_type": "code",
   "execution_count": 10,
   "metadata": {},
   "outputs": [
    {
     "data": {
      "text/plain": [
       "0    11.89\n",
       "1    10.71\n",
       "2    16.99\n",
       "3    13.11\n",
       "4    13.57\n",
       "Name: X1, dtype: float32"
      ]
     },
     "execution_count": 10,
     "metadata": {},
     "output_type": "execute_result"
    }
   ],
   "source": [
    "data = [train_df, test_df]\n",
    "\n",
    "for dataset in data:\n",
    "    dataset['X1'] = dataset['X1'].astype(str)\n",
    "    dataset['X1'] = dataset['X1'].replace({'%': ''}, regex=True)\n",
    "    dataset['X1'] = dataset['X1'].astype(np.float32)\n",
    "\n",
    "train_df['X1'].head()"
   ]
  },
  {
   "cell_type": "code",
   "execution_count": 11,
   "metadata": {},
   "outputs": [
    {
     "data": {
      "text/html": [
       "<div>\n",
       "<style scoped>\n",
       "    .dataframe tbody tr th:only-of-type {\n",
       "        vertical-align: middle;\n",
       "    }\n",
       "\n",
       "    .dataframe tbody tr th {\n",
       "        vertical-align: top;\n",
       "    }\n",
       "\n",
       "    .dataframe thead th {\n",
       "        text-align: right;\n",
       "    }\n",
       "</style>\n",
       "<table border=\"1\" class=\"dataframe\">\n",
       "  <thead>\n",
       "    <tr style=\"text-align: right;\">\n",
       "      <th></th>\n",
       "      <th>X4</th>\n",
       "      <th>X5</th>\n",
       "      <th>X6</th>\n",
       "    </tr>\n",
       "  </thead>\n",
       "  <tbody>\n",
       "    <tr>\n",
       "      <th>0</th>\n",
       "      <td>25000</td>\n",
       "      <td>25000</td>\n",
       "      <td>19080</td>\n",
       "    </tr>\n",
       "    <tr>\n",
       "      <th>1</th>\n",
       "      <td>7000</td>\n",
       "      <td>7000</td>\n",
       "      <td>673</td>\n",
       "    </tr>\n",
       "    <tr>\n",
       "      <th>2</th>\n",
       "      <td>25000</td>\n",
       "      <td>25000</td>\n",
       "      <td>24725</td>\n",
       "    </tr>\n",
       "    <tr>\n",
       "      <th>3</th>\n",
       "      <td>1200</td>\n",
       "      <td>1200</td>\n",
       "      <td>1200</td>\n",
       "    </tr>\n",
       "    <tr>\n",
       "      <th>4</th>\n",
       "      <td>10800</td>\n",
       "      <td>10800</td>\n",
       "      <td>10692</td>\n",
       "    </tr>\n",
       "  </tbody>\n",
       "</table>\n",
       "</div>"
      ],
      "text/plain": [
       "      X4     X5     X6\n",
       "0  25000  25000  19080\n",
       "1   7000   7000    673\n",
       "2  25000  25000  24725\n",
       "3   1200   1200   1200\n",
       "4  10800  10800  10692"
      ]
     },
     "execution_count": 11,
     "metadata": {},
     "output_type": "execute_result"
    }
   ],
   "source": [
    "data = [train_df, test_df]\n",
    "\n",
    "for dataset in data:\n",
    "    dataset['X4'] = dataset['X4'].replace({'\\$': '', ',': ''}, regex=True)\n",
    "    dataset['X5'] = dataset['X5'].replace({'\\$': '', ',': ''}, regex=True)\n",
    "    dataset['X6'] = dataset['X6'].replace({'\\$': '', ',': ''}, regex=True)\n",
    "\n",
    "train_df[['X4','X5','X6']].head()"
   ]
  },
  {
   "cell_type": "code",
   "execution_count": 12,
   "metadata": {
    "scrolled": true
   },
   "outputs": [],
   "source": [
    "train_df = train_df.dropna(subset=['X4'])\n",
    "test_df = test_df.dropna(subset=['X4'])\n",
    "\n",
    "data = [train_df, test_df]\n",
    "\n",
    "for dataset in data:\n",
    "    dataset['X4'] = dataset['X4'].astype(int)\n",
    "    dataset['X5'] = dataset['X5'].astype(int)\n",
    "    dataset['X6'] = dataset['X6'].astype(int)"
   ]
  },
  {
   "cell_type": "code",
   "execution_count": 13,
   "metadata": {
    "scrolled": false
   },
   "outputs": [
    {
     "data": {
      "text/html": [
       "<div>\n",
       "<style scoped>\n",
       "    .dataframe tbody tr th:only-of-type {\n",
       "        vertical-align: middle;\n",
       "    }\n",
       "\n",
       "    .dataframe tbody tr th {\n",
       "        vertical-align: top;\n",
       "    }\n",
       "\n",
       "    .dataframe thead th {\n",
       "        text-align: right;\n",
       "    }\n",
       "</style>\n",
       "<table border=\"1\" class=\"dataframe\">\n",
       "  <thead>\n",
       "    <tr style=\"text-align: right;\">\n",
       "      <th></th>\n",
       "      <th>Total</th>\n",
       "      <th>%</th>\n",
       "    </tr>\n",
       "  </thead>\n",
       "  <tbody>\n",
       "    <tr>\n",
       "      <th>X1</th>\n",
       "      <td>0</td>\n",
       "      <td>0.00</td>\n",
       "    </tr>\n",
       "    <tr>\n",
       "      <th>X2</th>\n",
       "      <td>0</td>\n",
       "      <td>0.00</td>\n",
       "    </tr>\n",
       "    <tr>\n",
       "      <th>X4</th>\n",
       "      <td>0</td>\n",
       "      <td>0.00</td>\n",
       "    </tr>\n",
       "    <tr>\n",
       "      <th>X5</th>\n",
       "      <td>0</td>\n",
       "      <td>0.00</td>\n",
       "    </tr>\n",
       "    <tr>\n",
       "      <th>X6</th>\n",
       "      <td>0</td>\n",
       "      <td>0.00</td>\n",
       "    </tr>\n",
       "    <tr>\n",
       "      <th>X7</th>\n",
       "      <td>0</td>\n",
       "      <td>0.00</td>\n",
       "    </tr>\n",
       "    <tr>\n",
       "      <th>X8</th>\n",
       "      <td>51866</td>\n",
       "      <td>15.30</td>\n",
       "    </tr>\n",
       "    <tr>\n",
       "      <th>X9</th>\n",
       "      <td>51866</td>\n",
       "      <td>15.30</td>\n",
       "    </tr>\n",
       "    <tr>\n",
       "      <th>X11</th>\n",
       "      <td>14794</td>\n",
       "      <td>4.36</td>\n",
       "    </tr>\n",
       "    <tr>\n",
       "      <th>X12</th>\n",
       "      <td>51959</td>\n",
       "      <td>15.33</td>\n",
       "    </tr>\n",
       "    <tr>\n",
       "      <th>X13</th>\n",
       "      <td>51751</td>\n",
       "      <td>15.27</td>\n",
       "    </tr>\n",
       "    <tr>\n",
       "      <th>X14</th>\n",
       "      <td>0</td>\n",
       "      <td>0.00</td>\n",
       "    </tr>\n",
       "    <tr>\n",
       "      <th>X15</th>\n",
       "      <td>0</td>\n",
       "      <td>0.00</td>\n",
       "    </tr>\n",
       "    <tr>\n",
       "      <th>X17</th>\n",
       "      <td>0</td>\n",
       "      <td>0.00</td>\n",
       "    </tr>\n",
       "    <tr>\n",
       "      <th>X19</th>\n",
       "      <td>0</td>\n",
       "      <td>0.00</td>\n",
       "    </tr>\n",
       "    <tr>\n",
       "      <th>X20</th>\n",
       "      <td>0</td>\n",
       "      <td>0.00</td>\n",
       "    </tr>\n",
       "    <tr>\n",
       "      <th>X21</th>\n",
       "      <td>0</td>\n",
       "      <td>0.00</td>\n",
       "    </tr>\n",
       "    <tr>\n",
       "      <th>X22</th>\n",
       "      <td>0</td>\n",
       "      <td>0.00</td>\n",
       "    </tr>\n",
       "    <tr>\n",
       "      <th>X23</th>\n",
       "      <td>0</td>\n",
       "      <td>0.00</td>\n",
       "    </tr>\n",
       "    <tr>\n",
       "      <th>X24</th>\n",
       "      <td>0</td>\n",
       "      <td>0.00</td>\n",
       "    </tr>\n",
       "    <tr>\n",
       "      <th>X25</th>\n",
       "      <td>185456</td>\n",
       "      <td>54.71</td>\n",
       "    </tr>\n",
       "    <tr>\n",
       "      <th>X26</th>\n",
       "      <td>295589</td>\n",
       "      <td>87.20</td>\n",
       "    </tr>\n",
       "    <tr>\n",
       "      <th>X27</th>\n",
       "      <td>0</td>\n",
       "      <td>0.00</td>\n",
       "    </tr>\n",
       "    <tr>\n",
       "      <th>X28</th>\n",
       "      <td>0</td>\n",
       "      <td>0.00</td>\n",
       "    </tr>\n",
       "    <tr>\n",
       "      <th>X29</th>\n",
       "      <td>0</td>\n",
       "      <td>0.00</td>\n",
       "    </tr>\n",
       "    <tr>\n",
       "      <th>X30</th>\n",
       "      <td>224</td>\n",
       "      <td>0.07</td>\n",
       "    </tr>\n",
       "    <tr>\n",
       "      <th>X31</th>\n",
       "      <td>0</td>\n",
       "      <td>0.00</td>\n",
       "    </tr>\n",
       "    <tr>\n",
       "      <th>X32</th>\n",
       "      <td>0</td>\n",
       "      <td>0.00</td>\n",
       "    </tr>\n",
       "  </tbody>\n",
       "</table>\n",
       "</div>"
      ],
      "text/plain": [
       "      Total      %\n",
       "X1        0   0.00\n",
       "X2        0   0.00\n",
       "X4        0   0.00\n",
       "X5        0   0.00\n",
       "X6        0   0.00\n",
       "X7        0   0.00\n",
       "X8    51866  15.30\n",
       "X9    51866  15.30\n",
       "X11   14794   4.36\n",
       "X12   51959  15.33\n",
       "X13   51751  15.27\n",
       "X14       0   0.00\n",
       "X15       0   0.00\n",
       "X17       0   0.00\n",
       "X19       0   0.00\n",
       "X20       0   0.00\n",
       "X21       0   0.00\n",
       "X22       0   0.00\n",
       "X23       0   0.00\n",
       "X24       0   0.00\n",
       "X25  185456  54.71\n",
       "X26  295589  87.20\n",
       "X27       0   0.00\n",
       "X28       0   0.00\n",
       "X29       0   0.00\n",
       "X30     224   0.07\n",
       "X31       0   0.00\n",
       "X32       0   0.00"
      ]
     },
     "execution_count": 13,
     "metadata": {},
     "output_type": "execute_result"
    }
   ],
   "source": [
    "#looks like I took care of that missing value\n",
    "total = train_df.isnull().sum()\n",
    "percent_1 = train_df.isnull().sum()/train_df.isnull().count()*100\n",
    "percent_2 = (round(percent_1, 2))\n",
    "missing_data = pd.concat([total, percent_2], axis=1, keys=['Total', '%'])\n",
    "missing_data"
   ]
  },
  {
   "cell_type": "code",
   "execution_count": 14,
   "metadata": {},
   "outputs": [
    {
     "name": "stdout",
     "output_type": "stream",
     "text": [
      "<class 'pandas.core.frame.DataFrame'>\n",
      "Int64Index: 338989 entries, 0 to 399999\n",
      "Data columns (total 28 columns):\n",
      "X1     338989 non-null float32\n",
      "X2     338989 non-null float64\n",
      "X4     338989 non-null int32\n",
      "X5     338989 non-null int32\n",
      "X6     338989 non-null int32\n",
      "X7     338989 non-null object\n",
      "X8     287123 non-null object\n",
      "X9     287123 non-null object\n",
      "X11    324195 non-null object\n",
      "X12    287030 non-null object\n",
      "X13    287238 non-null float64\n",
      "X14    338989 non-null object\n",
      "X15    338989 non-null object\n",
      "X17    338989 non-null object\n",
      "X19    338989 non-null object\n",
      "X20    338989 non-null object\n",
      "X21    338989 non-null float64\n",
      "X22    338989 non-null float64\n",
      "X23    338989 non-null object\n",
      "X24    338989 non-null float64\n",
      "X25    153533 non-null float64\n",
      "X26    43400 non-null float64\n",
      "X27    338989 non-null float64\n",
      "X28    338989 non-null float64\n",
      "X29    338989 non-null float64\n",
      "X30    338765 non-null object\n",
      "X31    338989 non-null float64\n",
      "X32    338989 non-null object\n",
      "dtypes: float32(1), float64(11), int32(3), object(13)\n",
      "memory usage: 69.8+ MB\n"
     ]
    }
   ],
   "source": [
    "#omg there are so many objects\n",
    "train_df.info()"
   ]
  },
  {
   "cell_type": "code",
   "execution_count": 15,
   "metadata": {},
   "outputs": [
    {
     "data": {
      "text/html": [
       "<div>\n",
       "<style scoped>\n",
       "    .dataframe tbody tr th:only-of-type {\n",
       "        vertical-align: middle;\n",
       "    }\n",
       "\n",
       "    .dataframe tbody tr th {\n",
       "        vertical-align: top;\n",
       "    }\n",
       "\n",
       "    .dataframe thead th {\n",
       "        text-align: right;\n",
       "    }\n",
       "</style>\n",
       "<table border=\"1\" class=\"dataframe\">\n",
       "  <thead>\n",
       "    <tr style=\"text-align: right;\">\n",
       "      <th></th>\n",
       "      <th>X7</th>\n",
       "    </tr>\n",
       "  </thead>\n",
       "  <tbody>\n",
       "    <tr>\n",
       "      <th>0</th>\n",
       "      <td>0</td>\n",
       "    </tr>\n",
       "    <tr>\n",
       "      <th>1</th>\n",
       "      <td>0</td>\n",
       "    </tr>\n",
       "    <tr>\n",
       "      <th>2</th>\n",
       "      <td>0</td>\n",
       "    </tr>\n",
       "    <tr>\n",
       "      <th>3</th>\n",
       "      <td>0</td>\n",
       "    </tr>\n",
       "    <tr>\n",
       "      <th>4</th>\n",
       "      <td>0</td>\n",
       "    </tr>\n",
       "  </tbody>\n",
       "</table>\n",
       "</div>"
      ],
      "text/plain": [
       "   X7\n",
       "0   0\n",
       "1   0\n",
       "2   0\n",
       "3   0\n",
       "4   0"
      ]
     },
     "execution_count": 15,
     "metadata": {},
     "output_type": "execute_result"
    }
   ],
   "source": [
    "#convert to numeric\n",
    "duration = {\" 36 months\": 0, \" 60 months\": 1}\n",
    "data = [train_df, test_df]\n",
    "\n",
    "for dataset in data:\n",
    "    dataset['X7'] = dataset['X7'].map(duration)\n",
    "    \n",
    "train_df[['X7']].head()"
   ]
  },
  {
   "cell_type": "code",
   "execution_count": 16,
   "metadata": {
    "scrolled": true
   },
   "outputs": [
    {
     "data": {
      "text/html": [
       "<div>\n",
       "<style scoped>\n",
       "    .dataframe tbody tr th:only-of-type {\n",
       "        vertical-align: middle;\n",
       "    }\n",
       "\n",
       "    .dataframe tbody tr th {\n",
       "        vertical-align: top;\n",
       "    }\n",
       "\n",
       "    .dataframe thead th {\n",
       "        text-align: right;\n",
       "    }\n",
       "</style>\n",
       "<table border=\"1\" class=\"dataframe\">\n",
       "  <thead>\n",
       "    <tr style=\"text-align: right;\">\n",
       "      <th></th>\n",
       "      <th>X8</th>\n",
       "    </tr>\n",
       "  </thead>\n",
       "  <tbody>\n",
       "    <tr>\n",
       "      <th>0</th>\n",
       "      <td>2</td>\n",
       "    </tr>\n",
       "    <tr>\n",
       "      <th>1</th>\n",
       "      <td>2</td>\n",
       "    </tr>\n",
       "    <tr>\n",
       "      <th>2</th>\n",
       "      <td>4</td>\n",
       "    </tr>\n",
       "    <tr>\n",
       "      <th>3</th>\n",
       "      <td>3</td>\n",
       "    </tr>\n",
       "    <tr>\n",
       "      <th>4</th>\n",
       "      <td>3</td>\n",
       "    </tr>\n",
       "  </tbody>\n",
       "</table>\n",
       "</div>"
      ],
      "text/plain": [
       "   X8\n",
       "0   2\n",
       "1   2\n",
       "2   4\n",
       "3   3\n",
       "4   3"
      ]
     },
     "execution_count": 16,
     "metadata": {},
     "output_type": "execute_result"
    }
   ],
   "source": [
    "#convert to numeric\n",
    "grade = {\"A\": 1, \"B\": 2, \"C\": 3, \"D\": 4, \"E\": 5, \"F\": 6, \"G\": 7}\n",
    "data = [train_df, test_df]\n",
    "\n",
    "for dataset in data:\n",
    "    dataset['X8'] = dataset['X8'].map(grade)\n",
    "    dataset['X8'] = dataset['X8'].fillna(0)\n",
    "    dataset['X8'] = dataset['X8'].astype(int)\n",
    "    \n",
    "train_df[['X8']].head()"
   ]
  },
  {
   "cell_type": "code",
   "execution_count": 17,
   "metadata": {},
   "outputs": [
    {
     "data": {
      "text/plain": [
       "0    4\n",
       "1    5\n",
       "2    3\n",
       "3    2\n",
       "4    3\n",
       "Name: X9, dtype: int32"
      ]
     },
     "execution_count": 17,
     "metadata": {},
     "output_type": "execute_result"
    }
   ],
   "source": [
    "data = [train_df, test_df]\n",
    "\n",
    "for dataset in data:\n",
    "    dataset['X9'] = dataset['X9'].astype(str)\n",
    "    dataset['X9'] = dataset['X9'].str.extract('(\\d+)')\n",
    "    dataset['X9'] = dataset['X9'].fillna(0)\n",
    "    dataset['X9'] = dataset['X9'].astype(int)\n",
    "\n",
    "train_df['X9'].head()"
   ]
  },
  {
   "cell_type": "code",
   "execution_count": 18,
   "metadata": {},
   "outputs": [
    {
     "data": {
      "text/plain": [
       "0     1\n",
       "1     1\n",
       "2     1\n",
       "3    10\n",
       "4     6\n",
       "Name: X11, dtype: int32"
      ]
     },
     "execution_count": 18,
     "metadata": {},
     "output_type": "execute_result"
    }
   ],
   "source": [
    "#Number of years employed (0 to 10; 10 = 10 or more)\n",
    "data = [train_df, test_df]\n",
    "\n",
    "for dataset in data:\n",
    "    dataset['X11'] = dataset['X11'].astype(str)\n",
    "    dataset['X11'] = dataset['X11'].str.extract('(\\d+)')\n",
    "    dataset['X11'] = dataset['X11'].fillna(0)\n",
    "    dataset['X11'] = dataset['X11'].astype(int)\n",
    "\n",
    "train_df['X11'].head()"
   ]
  },
  {
   "cell_type": "code",
   "execution_count": 19,
   "metadata": {},
   "outputs": [
    {
     "data": {
      "text/plain": [
       "<seaborn.axisgrid.FacetGrid at 0x27c000331d0>"
      ]
     },
     "execution_count": 19,
     "metadata": {},
     "output_type": "execute_result"
    },
    {
     "data": {
      "image/png": "[encoded data removed]",
      "text/plain": [
       "<Figure size 1296x216 with 6 Axes>"
      ]
     },
     "metadata": {
      "needs_background": "light"
     },
     "output_type": "display_data"
    }
   ],
   "source": [
    "plot1 = sns.FacetGrid(train_df, col='X12')\n",
    "plot1.map(plt.hist, 'X1', bins=10)"
   ]
  },
  {
   "cell_type": "code",
   "execution_count": 20,
   "metadata": {},
   "outputs": [
    {
     "data": {
      "text/html": [
       "<div>\n",
       "<style scoped>\n",
       "    .dataframe tbody tr th:only-of-type {\n",
       "        vertical-align: middle;\n",
       "    }\n",
       "\n",
       "    .dataframe tbody tr th {\n",
       "        vertical-align: top;\n",
       "    }\n",
       "\n",
       "    .dataframe thead th {\n",
       "        text-align: right;\n",
       "    }\n",
       "</style>\n",
       "<table border=\"1\" class=\"dataframe\">\n",
       "  <thead>\n",
       "    <tr style=\"text-align: right;\">\n",
       "      <th></th>\n",
       "      <th>X12</th>\n",
       "    </tr>\n",
       "  </thead>\n",
       "  <tbody>\n",
       "    <tr>\n",
       "      <th>0</th>\n",
       "      <td>1</td>\n",
       "    </tr>\n",
       "    <tr>\n",
       "      <th>1</th>\n",
       "      <td>1</td>\n",
       "    </tr>\n",
       "    <tr>\n",
       "      <th>2</th>\n",
       "      <td>1</td>\n",
       "    </tr>\n",
       "    <tr>\n",
       "      <th>3</th>\n",
       "      <td>3</td>\n",
       "    </tr>\n",
       "    <tr>\n",
       "      <th>4</th>\n",
       "      <td>1</td>\n",
       "    </tr>\n",
       "  </tbody>\n",
       "</table>\n",
       "</div>"
      ],
      "text/plain": [
       "   X12\n",
       "0    1\n",
       "1    1\n",
       "2    1\n",
       "3    3\n",
       "4    1"
      ]
     },
     "execution_count": 20,
     "metadata": {},
     "output_type": "execute_result"
    }
   ],
   "source": [
    "#Home ownership status: RENT, OWN, MORTGAGE, OTHER.\n",
    "#convert to numeric\n",
    "ownership = {\"ANY\": 0, \"NONE\": 0, \"OTHER\": 0, \"RENT\": 1, \"MORTGAGE\": 2, \"OWN\": 3}\n",
    "data = [train_df, test_df]\n",
    "\n",
    "for dataset in data:\n",
    "    dataset['X12'] = dataset['X12'].map(ownership)\n",
    "    dataset['X12'] = dataset['X12'].fillna(0)\n",
    "    dataset['X12'] = dataset['X12'].astype(int)\n",
    "    \n",
    "train_df[['X12']].head()"
   ]
  },
  {
   "cell_type": "code",
   "execution_count": 21,
   "metadata": {
    "scrolled": false
   },
   "outputs": [
    {
     "data": {
      "text/html": [
       "<div>\n",
       "<style scoped>\n",
       "    .dataframe tbody tr th:only-of-type {\n",
       "        vertical-align: middle;\n",
       "    }\n",
       "\n",
       "    .dataframe tbody tr th {\n",
       "        vertical-align: top;\n",
       "    }\n",
       "\n",
       "    .dataframe thead th {\n",
       "        text-align: right;\n",
       "    }\n",
       "</style>\n",
       "<table border=\"1\" class=\"dataframe\">\n",
       "  <thead>\n",
       "    <tr style=\"text-align: right;\">\n",
       "      <th></th>\n",
       "      <th>X13</th>\n",
       "    </tr>\n",
       "  </thead>\n",
       "  <tbody>\n",
       "    <tr>\n",
       "      <th>0</th>\n",
       "      <td>85000.0</td>\n",
       "    </tr>\n",
       "    <tr>\n",
       "      <th>1</th>\n",
       "      <td>65000.0</td>\n",
       "    </tr>\n",
       "    <tr>\n",
       "      <th>2</th>\n",
       "      <td>70000.0</td>\n",
       "    </tr>\n",
       "    <tr>\n",
       "      <th>3</th>\n",
       "      <td>54000.0</td>\n",
       "    </tr>\n",
       "    <tr>\n",
       "      <th>4</th>\n",
       "      <td>32000.0</td>\n",
       "    </tr>\n",
       "  </tbody>\n",
       "</table>\n",
       "</div>"
      ],
      "text/plain": [
       "       X13\n",
       "0  85000.0\n",
       "1  65000.0\n",
       "2  70000.0\n",
       "3  54000.0\n",
       "4  32000.0"
      ]
     },
     "execution_count": 21,
     "metadata": {},
     "output_type": "execute_result"
    }
   ],
   "source": [
    "train_df[['X13']].head()"
   ]
  },
  {
   "cell_type": "code",
   "execution_count": 22,
   "metadata": {
    "scrolled": true
   },
   "outputs": [
    {
     "data": {
      "text/html": [
       "<div>\n",
       "<style scoped>\n",
       "    .dataframe tbody tr th:only-of-type {\n",
       "        vertical-align: middle;\n",
       "    }\n",
       "\n",
       "    .dataframe tbody tr th {\n",
       "        vertical-align: top;\n",
       "    }\n",
       "\n",
       "    .dataframe thead th {\n",
       "        text-align: right;\n",
       "    }\n",
       "</style>\n",
       "<table border=\"1\" class=\"dataframe\">\n",
       "  <thead>\n",
       "    <tr style=\"text-align: right;\">\n",
       "      <th></th>\n",
       "      <th>X13</th>\n",
       "    </tr>\n",
       "  </thead>\n",
       "  <tbody>\n",
       "    <tr>\n",
       "      <th>count</th>\n",
       "      <td>2.872380e+05</td>\n",
       "    </tr>\n",
       "    <tr>\n",
       "      <th>mean</th>\n",
       "      <td>7.315146e+04</td>\n",
       "    </tr>\n",
       "    <tr>\n",
       "      <th>std</th>\n",
       "      <td>5.618967e+04</td>\n",
       "    </tr>\n",
       "    <tr>\n",
       "      <th>min</th>\n",
       "      <td>3.000000e+03</td>\n",
       "    </tr>\n",
       "    <tr>\n",
       "      <th>25%</th>\n",
       "      <td>4.500000e+04</td>\n",
       "    </tr>\n",
       "    <tr>\n",
       "      <th>50%</th>\n",
       "      <td>6.300000e+04</td>\n",
       "    </tr>\n",
       "    <tr>\n",
       "      <th>75%</th>\n",
       "      <td>8.807875e+04</td>\n",
       "    </tr>\n",
       "    <tr>\n",
       "      <th>max</th>\n",
       "      <td>7.500000e+06</td>\n",
       "    </tr>\n",
       "  </tbody>\n",
       "</table>\n",
       "</div>"
      ],
      "text/plain": [
       "                X13\n",
       "count  2.872380e+05\n",
       "mean   7.315146e+04\n",
       "std    5.618967e+04\n",
       "min    3.000000e+03\n",
       "25%    4.500000e+04\n",
       "50%    6.300000e+04\n",
       "75%    8.807875e+04\n",
       "max    7.500000e+06"
      ]
     },
     "execution_count": 22,
     "metadata": {},
     "output_type": "execute_result"
    }
   ],
   "source": [
    "train_df[['X13']].describe()"
   ]
  },
  {
   "cell_type": "code",
   "execution_count": 23,
   "metadata": {},
   "outputs": [
    {
     "data": {
      "text/plain": [
       "73593.45558291876"
      ]
     },
     "execution_count": 23,
     "metadata": {},
     "output_type": "execute_result"
    }
   ],
   "source": [
    "combine = train_df['X13'].append(test_df['X13'])\n",
    "\n",
    "combine.mean()"
   ]
  },
  {
   "cell_type": "code",
   "execution_count": 24,
   "metadata": {},
   "outputs": [
    {
     "data": {
      "text/html": [
       "<div>\n",
       "<style scoped>\n",
       "    .dataframe tbody tr th:only-of-type {\n",
       "        vertical-align: middle;\n",
       "    }\n",
       "\n",
       "    .dataframe tbody tr th {\n",
       "        vertical-align: top;\n",
       "    }\n",
       "\n",
       "    .dataframe thead th {\n",
       "        text-align: right;\n",
       "    }\n",
       "</style>\n",
       "<table border=\"1\" class=\"dataframe\">\n",
       "  <thead>\n",
       "    <tr style=\"text-align: right;\">\n",
       "      <th></th>\n",
       "      <th>X13</th>\n",
       "    </tr>\n",
       "  </thead>\n",
       "  <tbody>\n",
       "    <tr>\n",
       "      <th>0</th>\n",
       "      <td>85000</td>\n",
       "    </tr>\n",
       "    <tr>\n",
       "      <th>1</th>\n",
       "      <td>65000</td>\n",
       "    </tr>\n",
       "    <tr>\n",
       "      <th>2</th>\n",
       "      <td>70000</td>\n",
       "    </tr>\n",
       "    <tr>\n",
       "      <th>3</th>\n",
       "      <td>54000</td>\n",
       "    </tr>\n",
       "    <tr>\n",
       "      <th>4</th>\n",
       "      <td>32000</td>\n",
       "    </tr>\n",
       "  </tbody>\n",
       "</table>\n",
       "</div>"
      ],
      "text/plain": [
       "     X13\n",
       "0  85000\n",
       "1  65000\n",
       "2  70000\n",
       "3  54000\n",
       "4  32000"
      ]
     },
     "execution_count": 24,
     "metadata": {},
     "output_type": "execute_result"
    }
   ],
   "source": [
    "data = [train_df, test_df]\n",
    "\n",
    "for dataset in data: \n",
    "    dataset['X13'] = dataset['X13'].fillna(73593)\n",
    "    dataset['X13'] = dataset['X13'].astype(int)\n",
    "\n",
    "train_df[['X13']].head()"
   ]
  },
  {
   "cell_type": "code",
   "execution_count": 25,
   "metadata": {},
   "outputs": [
    {
     "data": {
      "text/plain": [
       "<seaborn.axisgrid.FacetGrid at 0x27c0657c160>"
      ]
     },
     "execution_count": 25,
     "metadata": {},
     "output_type": "execute_result"
    },
    {
     "data": {
      "image/png": "[encoded data removed]",
      "text/plain": [
       "<Figure size 648x216 with 3 Axes>"
      ]
     },
     "metadata": {
      "needs_background": "light"
     },
     "output_type": "display_data"
    }
   ],
   "source": [
    "plot2 = sns.FacetGrid(train_df, col='X14')\n",
    "plot2.map(plt.hist, 'X1', bins=10)"
   ]
  },
  {
   "cell_type": "code",
   "execution_count": 26,
   "metadata": {
    "scrolled": true
   },
   "outputs": [
    {
     "data": {
      "text/html": [
       "<div>\n",
       "<style scoped>\n",
       "    .dataframe tbody tr th:only-of-type {\n",
       "        vertical-align: middle;\n",
       "    }\n",
       "\n",
       "    .dataframe tbody tr th {\n",
       "        vertical-align: top;\n",
       "    }\n",
       "\n",
       "    .dataframe thead th {\n",
       "        text-align: right;\n",
       "    }\n",
       "</style>\n",
       "<table border=\"1\" class=\"dataframe\">\n",
       "  <thead>\n",
       "    <tr style=\"text-align: right;\">\n",
       "      <th></th>\n",
       "      <th>X14</th>\n",
       "    </tr>\n",
       "  </thead>\n",
       "  <tbody>\n",
       "    <tr>\n",
       "      <th>0</th>\n",
       "      <td>1</td>\n",
       "    </tr>\n",
       "    <tr>\n",
       "      <th>1</th>\n",
       "      <td>0</td>\n",
       "    </tr>\n",
       "    <tr>\n",
       "      <th>2</th>\n",
       "      <td>1</td>\n",
       "    </tr>\n",
       "    <tr>\n",
       "      <th>3</th>\n",
       "      <td>0</td>\n",
       "    </tr>\n",
       "    <tr>\n",
       "      <th>4</th>\n",
       "      <td>0</td>\n",
       "    </tr>\n",
       "  </tbody>\n",
       "</table>\n",
       "</div>"
      ],
      "text/plain": [
       "   X14\n",
       "0    1\n",
       "1    0\n",
       "2    1\n",
       "3    0\n",
       "4    0"
      ]
     },
     "execution_count": 26,
     "metadata": {},
     "output_type": "execute_result"
    }
   ],
   "source": [
    "#Home ownership status: RENT, OWN, MORTGAGE, OTHER.\n",
    "#convert to numeric\n",
    "verified = {\"not verified\": 0, \"VERIFIED - income\": 1, \"VERIFIED - income source\": 3}\n",
    "data = [train_df, test_df]\n",
    "\n",
    "for dataset in data:\n",
    "    dataset['X14'] = dataset['X14'].map(verified)\n",
    "    dataset['X14'] = dataset['X14'].fillna(0)\n",
    "    dataset['X14'] = dataset['X14'].astype(int)\n",
    "    \n",
    "train_df[['X14']].head()"
   ]
  },
  {
   "cell_type": "code",
   "execution_count": 27,
   "metadata": {},
   "outputs": [
    {
     "data": {
      "text/html": [
       "<div>\n",
       "<style scoped>\n",
       "    .dataframe tbody tr th:only-of-type {\n",
       "        vertical-align: middle;\n",
       "    }\n",
       "\n",
       "    .dataframe tbody tr th {\n",
       "        vertical-align: top;\n",
       "    }\n",
       "\n",
       "    .dataframe thead th {\n",
       "        text-align: right;\n",
       "    }\n",
       "</style>\n",
       "<table border=\"1\" class=\"dataframe\">\n",
       "  <thead>\n",
       "    <tr style=\"text-align: right;\">\n",
       "      <th></th>\n",
       "      <th>X15</th>\n",
       "    </tr>\n",
       "  </thead>\n",
       "  <tbody>\n",
       "    <tr>\n",
       "      <th>0</th>\n",
       "      <td>Aug-09</td>\n",
       "    </tr>\n",
       "    <tr>\n",
       "      <th>1</th>\n",
       "      <td>May-08</td>\n",
       "    </tr>\n",
       "    <tr>\n",
       "      <th>2</th>\n",
       "      <td>Aug-14</td>\n",
       "    </tr>\n",
       "    <tr>\n",
       "      <th>3</th>\n",
       "      <td>Mar-10</td>\n",
       "    </tr>\n",
       "    <tr>\n",
       "      <th>4</th>\n",
       "      <td>Nov-09</td>\n",
       "    </tr>\n",
       "  </tbody>\n",
       "</table>\n",
       "</div>"
      ],
      "text/plain": [
       "      X15\n",
       "0  Aug-09\n",
       "1  May-08\n",
       "2  Aug-14\n",
       "3  Mar-10\n",
       "4  Nov-09"
      ]
     },
     "execution_count": 27,
     "metadata": {},
     "output_type": "execute_result"
    }
   ],
   "source": [
    "train_df[['X15']].head()"
   ]
  },
  {
   "cell_type": "code",
   "execution_count": 28,
   "metadata": {},
   "outputs": [
    {
     "data": {
      "text/html": [
       "<div>\n",
       "<style scoped>\n",
       "    .dataframe tbody tr th:only-of-type {\n",
       "        vertical-align: middle;\n",
       "    }\n",
       "\n",
       "    .dataframe tbody tr th {\n",
       "        vertical-align: top;\n",
       "    }\n",
       "\n",
       "    .dataframe thead th {\n",
       "        text-align: right;\n",
       "    }\n",
       "</style>\n",
       "<table border=\"1\" class=\"dataframe\">\n",
       "  <thead>\n",
       "    <tr style=\"text-align: right;\">\n",
       "      <th></th>\n",
       "      <th>X15</th>\n",
       "    </tr>\n",
       "  </thead>\n",
       "  <tbody>\n",
       "    <tr>\n",
       "      <th>0</th>\n",
       "      <td>0.0</td>\n",
       "    </tr>\n",
       "    <tr>\n",
       "      <th>1</th>\n",
       "      <td>0.0</td>\n",
       "    </tr>\n",
       "    <tr>\n",
       "      <th>2</th>\n",
       "      <td>0.0</td>\n",
       "    </tr>\n",
       "    <tr>\n",
       "      <th>3</th>\n",
       "      <td>0.0</td>\n",
       "    </tr>\n",
       "    <tr>\n",
       "      <th>4</th>\n",
       "      <td>0.0</td>\n",
       "    </tr>\n",
       "  </tbody>\n",
       "</table>\n",
       "</div>"
      ],
      "text/plain": [
       "   X15\n",
       "0  0.0\n",
       "1  0.0\n",
       "2  0.0\n",
       "3  0.0\n",
       "4  0.0"
      ]
     },
     "execution_count": 28,
     "metadata": {},
     "output_type": "execute_result"
    }
   ],
   "source": [
    "#import re\n",
    "#dataset['X15'] = re.sub('[^a-zA-Z]+', '',  str(dataset['X15']))\n",
    "\n",
    "month = {\"Jan\": 1, \"Feb\": 2, \"Mar\": 3, \"Apr\": 4, \"May\": 5, \"Jun\": 6, \"Jul\": 7, \"Aug\": 8, \"Sep\": 9, \"Oct\": 10, \"Nov\": 11, \"Dec\": 12}\n",
    "\n",
    "data = [train_df, test_df]\n",
    "\n",
    "for dataset in data:\n",
    "\n",
    "    dataset['X15'] = dataset['X15'].astype(str)\n",
    "    dataset['X15'] = dataset['X15'].str[:3]\n",
    "    dataset['X15'] = dataset['X15'].map(month)\n",
    "    dataset['X15'] = dataset['X15'].fillna(0)\n",
    "\n",
    "test_df[['X15']].head()"
   ]
  },
  {
   "cell_type": "code",
   "execution_count": 29,
   "metadata": {},
   "outputs": [
    {
     "data": {
      "text/html": [
       "<div>\n",
       "<style scoped>\n",
       "    .dataframe tbody tr th:only-of-type {\n",
       "        vertical-align: middle;\n",
       "    }\n",
       "\n",
       "    .dataframe tbody tr th {\n",
       "        vertical-align: top;\n",
       "    }\n",
       "\n",
       "    .dataframe thead th {\n",
       "        text-align: right;\n",
       "    }\n",
       "</style>\n",
       "<table border=\"1\" class=\"dataframe\">\n",
       "  <thead>\n",
       "    <tr style=\"text-align: right;\">\n",
       "      <th></th>\n",
       "      <th>X17</th>\n",
       "    </tr>\n",
       "  </thead>\n",
       "  <tbody>\n",
       "    <tr>\n",
       "      <th>0</th>\n",
       "      <td>2</td>\n",
       "    </tr>\n",
       "    <tr>\n",
       "      <th>1</th>\n",
       "      <td>1</td>\n",
       "    </tr>\n",
       "    <tr>\n",
       "      <th>2</th>\n",
       "      <td>2</td>\n",
       "    </tr>\n",
       "    <tr>\n",
       "      <th>3</th>\n",
       "      <td>2</td>\n",
       "    </tr>\n",
       "    <tr>\n",
       "      <th>4</th>\n",
       "      <td>2</td>\n",
       "    </tr>\n",
       "  </tbody>\n",
       "</table>\n",
       "</div>"
      ],
      "text/plain": [
       "   X17\n",
       "0    2\n",
       "1    1\n",
       "2    2\n",
       "3    2\n",
       "4    2"
      ]
     },
     "execution_count": 29,
     "metadata": {},
     "output_type": "execute_result"
    }
   ],
   "source": [
    "from sklearn.preprocessing import LabelEncoder\n",
    "labelencoder = LabelEncoder()\n",
    "\n",
    "data = [train_df, test_df]\n",
    "\n",
    "for dataset in data:\n",
    "\n",
    "    dataset['X17'] = labelencoder.fit_transform(dataset['X17'])\n",
    "    dataset['X17'] = dataset['X17'].astype(int)\n",
    "\n",
    "train_df[['X17']].head()"
   ]
  },
  {
   "cell_type": "code",
   "execution_count": 30,
   "metadata": {},
   "outputs": [
    {
     "data": {
      "text/html": [
       "<div>\n",
       "<style scoped>\n",
       "    .dataframe tbody tr th:only-of-type {\n",
       "        vertical-align: middle;\n",
       "    }\n",
       "\n",
       "    .dataframe tbody tr th {\n",
       "        vertical-align: top;\n",
       "    }\n",
       "\n",
       "    .dataframe thead th {\n",
       "        text-align: right;\n",
       "    }\n",
       "</style>\n",
       "<table border=\"1\" class=\"dataframe\">\n",
       "  <thead>\n",
       "    <tr style=\"text-align: right;\">\n",
       "      <th></th>\n",
       "      <th>X19</th>\n",
       "    </tr>\n",
       "  </thead>\n",
       "  <tbody>\n",
       "    <tr>\n",
       "      <th>count</th>\n",
       "      <td>338989</td>\n",
       "    </tr>\n",
       "    <tr>\n",
       "      <th>unique</th>\n",
       "      <td>874</td>\n",
       "    </tr>\n",
       "    <tr>\n",
       "      <th>top</th>\n",
       "      <td>945xx</td>\n",
       "    </tr>\n",
       "    <tr>\n",
       "      <th>freq</th>\n",
       "      <td>3922</td>\n",
       "    </tr>\n",
       "  </tbody>\n",
       "</table>\n",
       "</div>"
      ],
      "text/plain": [
       "           X19\n",
       "count   338989\n",
       "unique     874\n",
       "top      945xx\n",
       "freq      3922"
      ]
     },
     "execution_count": 30,
     "metadata": {},
     "output_type": "execute_result"
    }
   ],
   "source": [
    "train_df[['X19']].describe()"
   ]
  },
  {
   "cell_type": "code",
   "execution_count": 31,
   "metadata": {},
   "outputs": [],
   "source": [
    "#too many unique to be of value\n",
    "train_df = train_df.drop(['X19'], axis=1)\n",
    "test_df = test_df.drop(['X19'], axis=1)"
   ]
  },
  {
   "cell_type": "code",
   "execution_count": 32,
   "metadata": {},
   "outputs": [
    {
     "data": {
      "text/html": [
       "<div>\n",
       "<style scoped>\n",
       "    .dataframe tbody tr th:only-of-type {\n",
       "        vertical-align: middle;\n",
       "    }\n",
       "\n",
       "    .dataframe tbody tr th {\n",
       "        vertical-align: top;\n",
       "    }\n",
       "\n",
       "    .dataframe thead th {\n",
       "        text-align: right;\n",
       "    }\n",
       "</style>\n",
       "<table border=\"1\" class=\"dataframe\">\n",
       "  <thead>\n",
       "    <tr style=\"text-align: right;\">\n",
       "      <th></th>\n",
       "      <th>X20</th>\n",
       "    </tr>\n",
       "  </thead>\n",
       "  <tbody>\n",
       "    <tr>\n",
       "      <th>count</th>\n",
       "      <td>338989</td>\n",
       "    </tr>\n",
       "    <tr>\n",
       "      <th>unique</th>\n",
       "      <td>50</td>\n",
       "    </tr>\n",
       "    <tr>\n",
       "      <th>top</th>\n",
       "      <td>CA</td>\n",
       "    </tr>\n",
       "    <tr>\n",
       "      <th>freq</th>\n",
       "      <td>52835</td>\n",
       "    </tr>\n",
       "  </tbody>\n",
       "</table>\n",
       "</div>"
      ],
      "text/plain": [
       "           X20\n",
       "count   338989\n",
       "unique      50\n",
       "top         CA\n",
       "freq     52835"
      ]
     },
     "execution_count": 32,
     "metadata": {},
     "output_type": "execute_result"
    }
   ],
   "source": [
    "train_df[['X20']].describe()"
   ]
  },
  {
   "cell_type": "code",
   "execution_count": 33,
   "metadata": {},
   "outputs": [],
   "source": [
    "#too many unique to be of value\n",
    "train_df = train_df.drop(['X20'], axis=1)\n",
    "test_df = test_df.drop(['X20'], axis=1)"
   ]
  },
  {
   "cell_type": "code",
   "execution_count": 34,
   "metadata": {},
   "outputs": [
    {
     "data": {
      "text/html": [
       "<div>\n",
       "<style scoped>\n",
       "    .dataframe tbody tr th:only-of-type {\n",
       "        vertical-align: middle;\n",
       "    }\n",
       "\n",
       "    .dataframe tbody tr th {\n",
       "        vertical-align: top;\n",
       "    }\n",
       "\n",
       "    .dataframe thead th {\n",
       "        text-align: right;\n",
       "    }\n",
       "</style>\n",
       "<table border=\"1\" class=\"dataframe\">\n",
       "  <thead>\n",
       "    <tr style=\"text-align: right;\">\n",
       "      <th></th>\n",
       "      <th>X23</th>\n",
       "    </tr>\n",
       "  </thead>\n",
       "  <tbody>\n",
       "    <tr>\n",
       "      <th>0</th>\n",
       "      <td>94</td>\n",
       "    </tr>\n",
       "    <tr>\n",
       "      <th>1</th>\n",
       "      <td>0</td>\n",
       "    </tr>\n",
       "    <tr>\n",
       "      <th>2</th>\n",
       "      <td>0</td>\n",
       "    </tr>\n",
       "    <tr>\n",
       "      <th>3</th>\n",
       "      <td>85</td>\n",
       "    </tr>\n",
       "    <tr>\n",
       "      <th>4</th>\n",
       "      <td>96</td>\n",
       "    </tr>\n",
       "  </tbody>\n",
       "</table>\n",
       "</div>"
      ],
      "text/plain": [
       "   X23\n",
       "0   94\n",
       "1    0\n",
       "2    0\n",
       "3   85\n",
       "4   96"
      ]
     },
     "execution_count": 34,
     "metadata": {},
     "output_type": "execute_result"
    }
   ],
   "source": [
    "data = [train_df, test_df]\n",
    "\n",
    "for dataset in data:\n",
    "    dataset['X23'] = dataset['X23'].astype(str)\n",
    "    dataset['X23'] = dataset['X23'].str.extract('(\\d+)')\n",
    "    dataset['X23'] = dataset['X23'].astype(int)\n",
    "\n",
    "train_df[['X23']].head()"
   ]
  },
  {
   "cell_type": "code",
   "execution_count": 35,
   "metadata": {},
   "outputs": [
    {
     "data": {
      "text/plain": [
       "count    194829.000000\n",
       "mean         34.201803\n",
       "std          21.796499\n",
       "min           0.000000\n",
       "25%          16.000000\n",
       "50%          31.000000\n",
       "75%          50.000000\n",
       "max         188.000000\n",
       "Name: X25, dtype: float64"
      ]
     },
     "execution_count": 35,
     "metadata": {},
     "output_type": "execute_result"
    }
   ],
   "source": [
    "combine = train_df['X25'].append(test_df['X25'])\n",
    "\n",
    "combine.describe()"
   ]
  },
  {
   "cell_type": "code",
   "execution_count": 36,
   "metadata": {},
   "outputs": [
    {
     "data": {
      "text/html": [
       "<div>\n",
       "<style scoped>\n",
       "    .dataframe tbody tr th:only-of-type {\n",
       "        vertical-align: middle;\n",
       "    }\n",
       "\n",
       "    .dataframe tbody tr th {\n",
       "        vertical-align: top;\n",
       "    }\n",
       "\n",
       "    .dataframe thead th {\n",
       "        text-align: right;\n",
       "    }\n",
       "</style>\n",
       "<table border=\"1\" class=\"dataframe\">\n",
       "  <thead>\n",
       "    <tr style=\"text-align: right;\">\n",
       "      <th></th>\n",
       "      <th>X25</th>\n",
       "    </tr>\n",
       "  </thead>\n",
       "  <tbody>\n",
       "    <tr>\n",
       "      <th>0</th>\n",
       "      <td>34</td>\n",
       "    </tr>\n",
       "    <tr>\n",
       "      <th>1</th>\n",
       "      <td>34</td>\n",
       "    </tr>\n",
       "    <tr>\n",
       "      <th>2</th>\n",
       "      <td>41</td>\n",
       "    </tr>\n",
       "    <tr>\n",
       "      <th>3</th>\n",
       "      <td>64</td>\n",
       "    </tr>\n",
       "    <tr>\n",
       "      <th>4</th>\n",
       "      <td>58</td>\n",
       "    </tr>\n",
       "  </tbody>\n",
       "</table>\n",
       "</div>"
      ],
      "text/plain": [
       "   X25\n",
       "0   34\n",
       "1   34\n",
       "2   41\n",
       "3   64\n",
       "4   58"
      ]
     },
     "execution_count": 36,
     "metadata": {},
     "output_type": "execute_result"
    }
   ],
   "source": [
    "#Number of months since the borrower's last delinquency.\n",
    "\n",
    "data = [train_df, test_df]\n",
    "\n",
    "for dataset in data: \n",
    "    dataset['X25'] = dataset['X25'].fillna(34)\n",
    "    dataset['X25'] = dataset['X25'].astype(int)\n",
    "\n",
    "train_df[['X25']].head()"
   ]
  },
  {
   "cell_type": "code",
   "execution_count": 37,
   "metadata": {},
   "outputs": [
    {
     "data": {
      "text/plain": [
       "count    57239.000000\n",
       "mean        74.197418\n",
       "std         29.588964\n",
       "min          0.000000\n",
       "25%         53.000000\n",
       "50%         75.000000\n",
       "75%        101.000000\n",
       "max        129.000000\n",
       "Name: X26, dtype: float64"
      ]
     },
     "execution_count": 37,
     "metadata": {},
     "output_type": "execute_result"
    }
   ],
   "source": [
    "combine = train_df['X26'].append(test_df['X26'])\n",
    "\n",
    "combine.describe()"
   ]
  },
  {
   "cell_type": "code",
   "execution_count": 38,
   "metadata": {},
   "outputs": [
    {
     "data": {
      "text/html": [
       "<div>\n",
       "<style scoped>\n",
       "    .dataframe tbody tr th:only-of-type {\n",
       "        vertical-align: middle;\n",
       "    }\n",
       "\n",
       "    .dataframe tbody tr th {\n",
       "        vertical-align: top;\n",
       "    }\n",
       "\n",
       "    .dataframe thead th {\n",
       "        text-align: right;\n",
       "    }\n",
       "</style>\n",
       "<table border=\"1\" class=\"dataframe\">\n",
       "  <thead>\n",
       "    <tr style=\"text-align: right;\">\n",
       "      <th></th>\n",
       "      <th>X26</th>\n",
       "    </tr>\n",
       "  </thead>\n",
       "  <tbody>\n",
       "    <tr>\n",
       "      <th>0</th>\n",
       "      <td>74</td>\n",
       "    </tr>\n",
       "    <tr>\n",
       "      <th>1</th>\n",
       "      <td>74</td>\n",
       "    </tr>\n",
       "    <tr>\n",
       "      <th>2</th>\n",
       "      <td>74</td>\n",
       "    </tr>\n",
       "    <tr>\n",
       "      <th>3</th>\n",
       "      <td>74</td>\n",
       "    </tr>\n",
       "    <tr>\n",
       "      <th>4</th>\n",
       "      <td>74</td>\n",
       "    </tr>\n",
       "  </tbody>\n",
       "</table>\n",
       "</div>"
      ],
      "text/plain": [
       "   X26\n",
       "0   74\n",
       "1   74\n",
       "2   74\n",
       "3   74\n",
       "4   74"
      ]
     },
     "execution_count": 38,
     "metadata": {},
     "output_type": "execute_result"
    }
   ],
   "source": [
    "data = [train_df, test_df]\n",
    "\n",
    "for dataset in data: \n",
    "    dataset['X26'] = dataset['X26'].fillna(74)\n",
    "    dataset['X26'] = dataset['X26'].astype(int)\n",
    "\n",
    "train_df[['X26']].head()"
   ]
  },
  {
   "cell_type": "code",
   "execution_count": 39,
   "metadata": {},
   "outputs": [
    {
     "name": "stdout",
     "output_type": "stream",
     "text": [
      "<class 'pandas.core.frame.DataFrame'>\n",
      "Int64Index: 338989 entries, 0 to 399999\n",
      "Data columns (total 1 columns):\n",
      "X29    338989 non-null float64\n",
      "dtypes: float64(1)\n",
      "memory usage: 5.2 MB\n"
     ]
    }
   ],
   "source": [
    "train_df[['X29']].info()"
   ]
  },
  {
   "cell_type": "code",
   "execution_count": 40,
   "metadata": {
    "scrolled": true
   },
   "outputs": [
    {
     "data": {
      "text/plain": [
       "0    52.099998\n",
       "1    76.699997\n",
       "2    66.300003\n",
       "3    40.400002\n",
       "4    25.600000\n",
       "Name: X30, dtype: float32"
      ]
     },
     "execution_count": 40,
     "metadata": {},
     "output_type": "execute_result"
    }
   ],
   "source": [
    "data = [train_df, test_df]\n",
    "\n",
    "for dataset in data:\n",
    "    dataset['X30'] = dataset['X30'].astype(str)\n",
    "    dataset['X30'] = dataset['X30'].replace({'%': ''}, regex=True)\n",
    "    dataset['X30'] = dataset['X30'].astype(np.float32)\n",
    "    dataset['X30'] = dataset['X30'].fillna(57.6)\n",
    "\n",
    "train_df['X30'].head()"
   ]
  },
  {
   "cell_type": "code",
   "execution_count": 41,
   "metadata": {},
   "outputs": [
    {
     "data": {
      "text/plain": [
       "count     338989\n",
       "unique         2\n",
       "top            f\n",
       "freq      232600\n",
       "Name: X32, dtype: object"
      ]
     },
     "execution_count": 41,
     "metadata": {},
     "output_type": "execute_result"
    }
   ],
   "source": [
    "train_df['X32'].describe()"
   ]
  },
  {
   "cell_type": "code",
   "execution_count": 42,
   "metadata": {},
   "outputs": [
    {
     "data": {
      "text/html": [
       "<div>\n",
       "<style scoped>\n",
       "    .dataframe tbody tr th:only-of-type {\n",
       "        vertical-align: middle;\n",
       "    }\n",
       "\n",
       "    .dataframe tbody tr th {\n",
       "        vertical-align: top;\n",
       "    }\n",
       "\n",
       "    .dataframe thead th {\n",
       "        text-align: right;\n",
       "    }\n",
       "</style>\n",
       "<table border=\"1\" class=\"dataframe\">\n",
       "  <thead>\n",
       "    <tr style=\"text-align: right;\">\n",
       "      <th></th>\n",
       "      <th>X32</th>\n",
       "    </tr>\n",
       "  </thead>\n",
       "  <tbody>\n",
       "    <tr>\n",
       "      <th>0</th>\n",
       "      <td>0</td>\n",
       "    </tr>\n",
       "    <tr>\n",
       "      <th>1</th>\n",
       "      <td>0</td>\n",
       "    </tr>\n",
       "    <tr>\n",
       "      <th>2</th>\n",
       "      <td>0</td>\n",
       "    </tr>\n",
       "    <tr>\n",
       "      <th>3</th>\n",
       "      <td>0</td>\n",
       "    </tr>\n",
       "    <tr>\n",
       "      <th>4</th>\n",
       "      <td>0</td>\n",
       "    </tr>\n",
       "  </tbody>\n",
       "</table>\n",
       "</div>"
      ],
      "text/plain": [
       "   X32\n",
       "0    0\n",
       "1    0\n",
       "2    0\n",
       "3    0\n",
       "4    0"
      ]
     },
     "execution_count": 42,
     "metadata": {},
     "output_type": "execute_result"
    }
   ],
   "source": [
    "status = {\"f\": 0, \"w\": 1}\n",
    "data = [train_df, test_df]\n",
    "\n",
    "for dataset in data:\n",
    "    dataset['X32'] = dataset['X32'].fillna('f')\n",
    "    dataset['X32'] = dataset['X32'].map(status)\n",
    "    dataset['X32'] = dataset['X32'].astype(int)\n",
    "    \n",
    "train_df[['X32']].head()"
   ]
  },
  {
   "cell_type": "code",
   "execution_count": 43,
   "metadata": {},
   "outputs": [
    {
     "data": {
      "text/html": [
       "<div>\n",
       "<style scoped>\n",
       "    .dataframe tbody tr th:only-of-type {\n",
       "        vertical-align: middle;\n",
       "    }\n",
       "\n",
       "    .dataframe tbody tr th {\n",
       "        vertical-align: top;\n",
       "    }\n",
       "\n",
       "    .dataframe thead th {\n",
       "        text-align: right;\n",
       "    }\n",
       "</style>\n",
       "<table border=\"1\" class=\"dataframe\">\n",
       "  <thead>\n",
       "    <tr style=\"text-align: right;\">\n",
       "      <th></th>\n",
       "      <th>Total</th>\n",
       "      <th>%</th>\n",
       "    </tr>\n",
       "  </thead>\n",
       "  <tbody>\n",
       "    <tr>\n",
       "      <th>X1</th>\n",
       "      <td>0</td>\n",
       "      <td>0.0</td>\n",
       "    </tr>\n",
       "    <tr>\n",
       "      <th>X2</th>\n",
       "      <td>0</td>\n",
       "      <td>0.0</td>\n",
       "    </tr>\n",
       "    <tr>\n",
       "      <th>X4</th>\n",
       "      <td>0</td>\n",
       "      <td>0.0</td>\n",
       "    </tr>\n",
       "    <tr>\n",
       "      <th>X5</th>\n",
       "      <td>0</td>\n",
       "      <td>0.0</td>\n",
       "    </tr>\n",
       "    <tr>\n",
       "      <th>X6</th>\n",
       "      <td>0</td>\n",
       "      <td>0.0</td>\n",
       "    </tr>\n",
       "    <tr>\n",
       "      <th>X7</th>\n",
       "      <td>0</td>\n",
       "      <td>0.0</td>\n",
       "    </tr>\n",
       "    <tr>\n",
       "      <th>X8</th>\n",
       "      <td>0</td>\n",
       "      <td>0.0</td>\n",
       "    </tr>\n",
       "    <tr>\n",
       "      <th>X9</th>\n",
       "      <td>0</td>\n",
       "      <td>0.0</td>\n",
       "    </tr>\n",
       "    <tr>\n",
       "      <th>X11</th>\n",
       "      <td>0</td>\n",
       "      <td>0.0</td>\n",
       "    </tr>\n",
       "    <tr>\n",
       "      <th>X12</th>\n",
       "      <td>0</td>\n",
       "      <td>0.0</td>\n",
       "    </tr>\n",
       "    <tr>\n",
       "      <th>X13</th>\n",
       "      <td>0</td>\n",
       "      <td>0.0</td>\n",
       "    </tr>\n",
       "    <tr>\n",
       "      <th>X14</th>\n",
       "      <td>0</td>\n",
       "      <td>0.0</td>\n",
       "    </tr>\n",
       "    <tr>\n",
       "      <th>X15</th>\n",
       "      <td>0</td>\n",
       "      <td>0.0</td>\n",
       "    </tr>\n",
       "    <tr>\n",
       "      <th>X17</th>\n",
       "      <td>0</td>\n",
       "      <td>0.0</td>\n",
       "    </tr>\n",
       "    <tr>\n",
       "      <th>X21</th>\n",
       "      <td>0</td>\n",
       "      <td>0.0</td>\n",
       "    </tr>\n",
       "    <tr>\n",
       "      <th>X22</th>\n",
       "      <td>0</td>\n",
       "      <td>0.0</td>\n",
       "    </tr>\n",
       "    <tr>\n",
       "      <th>X23</th>\n",
       "      <td>0</td>\n",
       "      <td>0.0</td>\n",
       "    </tr>\n",
       "    <tr>\n",
       "      <th>X24</th>\n",
       "      <td>0</td>\n",
       "      <td>0.0</td>\n",
       "    </tr>\n",
       "    <tr>\n",
       "      <th>X25</th>\n",
       "      <td>0</td>\n",
       "      <td>0.0</td>\n",
       "    </tr>\n",
       "    <tr>\n",
       "      <th>X26</th>\n",
       "      <td>0</td>\n",
       "      <td>0.0</td>\n",
       "    </tr>\n",
       "    <tr>\n",
       "      <th>X27</th>\n",
       "      <td>0</td>\n",
       "      <td>0.0</td>\n",
       "    </tr>\n",
       "    <tr>\n",
       "      <th>X28</th>\n",
       "      <td>0</td>\n",
       "      <td>0.0</td>\n",
       "    </tr>\n",
       "    <tr>\n",
       "      <th>X29</th>\n",
       "      <td>0</td>\n",
       "      <td>0.0</td>\n",
       "    </tr>\n",
       "    <tr>\n",
       "      <th>X30</th>\n",
       "      <td>0</td>\n",
       "      <td>0.0</td>\n",
       "    </tr>\n",
       "    <tr>\n",
       "      <th>X31</th>\n",
       "      <td>0</td>\n",
       "      <td>0.0</td>\n",
       "    </tr>\n",
       "    <tr>\n",
       "      <th>X32</th>\n",
       "      <td>0</td>\n",
       "      <td>0.0</td>\n",
       "    </tr>\n",
       "  </tbody>\n",
       "</table>\n",
       "</div>"
      ],
      "text/plain": [
       "     Total    %\n",
       "X1       0  0.0\n",
       "X2       0  0.0\n",
       "X4       0  0.0\n",
       "X5       0  0.0\n",
       "X6       0  0.0\n",
       "X7       0  0.0\n",
       "X8       0  0.0\n",
       "X9       0  0.0\n",
       "X11      0  0.0\n",
       "X12      0  0.0\n",
       "X13      0  0.0\n",
       "X14      0  0.0\n",
       "X15      0  0.0\n",
       "X17      0  0.0\n",
       "X21      0  0.0\n",
       "X22      0  0.0\n",
       "X23      0  0.0\n",
       "X24      0  0.0\n",
       "X25      0  0.0\n",
       "X26      0  0.0\n",
       "X27      0  0.0\n",
       "X28      0  0.0\n",
       "X29      0  0.0\n",
       "X30      0  0.0\n",
       "X31      0  0.0\n",
       "X32      0  0.0"
      ]
     },
     "execution_count": 43,
     "metadata": {},
     "output_type": "execute_result"
    }
   ],
   "source": [
    "total = train_df.isnull().sum()\n",
    "percent_1 = train_df.isnull().sum()/train_df.isnull().count()*100\n",
    "percent_2 = (round(percent_1, 2))\n",
    "missing_data = pd.concat([total, percent_2], axis=1, keys=['Total', '%'])\n",
    "missing_data"
   ]
  },
  {
   "cell_type": "code",
   "execution_count": 44,
   "metadata": {
    "scrolled": false
   },
   "outputs": [
    {
     "name": "stdout",
     "output_type": "stream",
     "text": [
      "<class 'pandas.core.frame.DataFrame'>\n",
      "Int64Index: 338989 entries, 0 to 399999\n",
      "Data columns (total 26 columns):\n",
      "X1     338989 non-null float32\n",
      "X2     338989 non-null float64\n",
      "X4     338989 non-null int32\n",
      "X5     338989 non-null int32\n",
      "X6     338989 non-null int32\n",
      "X7     338989 non-null int64\n",
      "X8     338989 non-null int32\n",
      "X9     338989 non-null int32\n",
      "X11    338989 non-null int32\n",
      "X12    338989 non-null int32\n",
      "X13    338989 non-null int32\n",
      "X14    338989 non-null int32\n",
      "X15    338989 non-null int64\n",
      "X17    338989 non-null int32\n",
      "X21    338989 non-null float64\n",
      "X22    338989 non-null float64\n",
      "X23    338989 non-null int32\n",
      "X24    338989 non-null float64\n",
      "X25    338989 non-null int32\n",
      "X26    338989 non-null int32\n",
      "X27    338989 non-null float64\n",
      "X28    338989 non-null float64\n",
      "X29    338989 non-null float64\n",
      "X30    338989 non-null float32\n",
      "X31    338989 non-null float64\n",
      "X32    338989 non-null int32\n",
      "dtypes: float32(2), float64(8), int32(14), int64(2)\n",
      "memory usage: 49.1 MB\n"
     ]
    }
   ],
   "source": [
    "train_df.info()"
   ]
  },
  {
   "cell_type": "code",
   "execution_count": 45,
   "metadata": {
    "scrolled": false
   },
   "outputs": [
    {
     "name": "stdout",
     "output_type": "stream",
     "text": [
      "<class 'pandas.core.frame.DataFrame'>\n",
      "Int64Index: 80000 entries, 0 to 79999\n",
      "Data columns (total 26 columns):\n",
      "X1     0 non-null float32\n",
      "X2     80000 non-null float32\n",
      "X4     80000 non-null int32\n",
      "X5     80000 non-null int32\n",
      "X6     80000 non-null int32\n",
      "X7     80000 non-null int64\n",
      "X8     80000 non-null int32\n",
      "X9     80000 non-null int32\n",
      "X11    80000 non-null int32\n",
      "X12    80000 non-null int32\n",
      "X13    80000 non-null int32\n",
      "X14    80000 non-null int32\n",
      "X15    80000 non-null float32\n",
      "X17    80000 non-null int32\n",
      "X21    80000 non-null float32\n",
      "X22    80000 non-null float32\n",
      "X23    80000 non-null int32\n",
      "X24    80000 non-null float32\n",
      "X25    80000 non-null int32\n",
      "X26    80000 non-null int32\n",
      "X27    80000 non-null float32\n",
      "X28    80000 non-null float32\n",
      "X29    80000 non-null float32\n",
      "X30    80000 non-null float32\n",
      "X31    80000 non-null float32\n",
      "X32    80000 non-null int32\n",
      "dtypes: float32(11), int32(14), int64(1)\n",
      "memory usage: 8.9 MB\n"
     ]
    }
   ],
   "source": [
    "data = [train_df, test_df]\n",
    "\n",
    "for dataset in data:\n",
    "    dataset['X1'] = dataset['X1'].astype(np.float32)\n",
    "    dataset['X1'] = round(dataset['X1'],4)\n",
    "    dataset['X2'] = dataset['X2'].astype(np.float32)\n",
    "    dataset['X2'] = round(dataset['X2'],4)\n",
    "    dataset['X15'] = dataset['X15'].astype(np.float32)\n",
    "    dataset['X15'] = round(dataset['X15'],4)\n",
    "    dataset['X21'] = dataset['X21'].astype(np.float32)\n",
    "    dataset['X21'] = round(dataset['X21'],4)\n",
    "    dataset['X22'] = dataset['X22'].astype(np.float32)\n",
    "    dataset['X22'] = round(dataset['X22'],4)\n",
    "    dataset['X24'] = dataset['X24'].astype(np.float32)\n",
    "    dataset['X24'] = round(dataset['X24'],4)\n",
    "    dataset['X27'] = dataset['X27'].astype(np.float32)\n",
    "    dataset['X27'] = round(dataset['X27'],4)\n",
    "    dataset['X28'] = dataset['X28'].astype(np.float32)\n",
    "    dataset['X28'] = round(dataset['X28'],4)\n",
    "    dataset['X29'] = dataset['X29'].astype(np.float32)\n",
    "    dataset['X29'] = round(dataset['X29'],4)\n",
    "    dataset['X31'] = dataset['X31'].astype(np.float32)\n",
    "    dataset['X31'] = round(dataset['X31'],4)\n",
    "    \n",
    "test_df.info()"
   ]
  },
  {
   "cell_type": "code",
   "execution_count": 46,
   "metadata": {},
   "outputs": [],
   "source": [
    "#X1 - interest rate of loan\n",
    "#X2 - loan ID\n",
    "\n",
    "X_train = train_df.drop(\"X1\", axis=1)\n",
    "Y_train = train_df[\"X1\"]\n",
    "X_test  = test_df.drop(['X1'], axis=1).copy()"
   ]
  },
  {
   "cell_type": "code",
   "execution_count": 47,
   "metadata": {},
   "outputs": [],
   "source": [
    "from sklearn import linear_model\n",
    "from sklearn.linear_model import LinearRegression\n",
    "from sklearn.ensemble import RandomForestRegressor\n",
    "from sklearn.tree import DecisionTreeRegressor\n",
    "from sklearn.neighbors import KNeighborsRegressor\n",
    "from sklearn.svm import SVR"
   ]
  },
  {
   "cell_type": "code",
   "execution_count": 48,
   "metadata": {
    "scrolled": false
   },
   "outputs": [
    {
     "data": {
      "text/plain": [
       "63.23"
      ]
     },
     "execution_count": 48,
     "metadata": {},
     "output_type": "execute_result"
    }
   ],
   "source": [
    "#LinearRegression\n",
    "linreg = LinearRegression()\n",
    "lin_model = linreg.fit(X_train, Y_train)\n",
    "\n",
    "lin_Y_pred = linreg.predict(X_test)\n",
    "\n",
    "acc_lin = round(linreg.score(X_train, Y_train) * 100, 2)\n",
    "\n",
    "acc_lin"
   ]
  },
  {
   "cell_type": "code",
   "execution_count": 49,
   "metadata": {},
   "outputs": [
    {
     "data": {
      "text/plain": [
       "98.68"
      ]
     },
     "execution_count": 49,
     "metadata": {},
     "output_type": "execute_result"
    }
   ],
   "source": [
    "#RandomForestRegressor\n",
    "random_forest = RandomForestRegressor(n_estimators=10)\n",
    "random_forest_model = random_forest.fit(X_train, Y_train)\n",
    "\n",
    "random_Y_pred = random_forest.predict(X_test)\n",
    "\n",
    "random_forest.score(X_train, Y_train)\n",
    "acc_random_forest = round(random_forest.score(X_train, Y_train) * 100, 2)\n",
    "acc_random_forest"
   ]
  },
  {
   "cell_type": "code",
   "execution_count": 50,
   "metadata": {},
   "outputs": [
    {
     "data": {
      "text/plain": [
       "97.3"
      ]
     },
     "execution_count": 50,
     "metadata": {},
     "output_type": "execute_result"
    }
   ],
   "source": [
    "#DecisionTreeRegressor\n",
    "decision_tree = DecisionTreeRegressor(min_samples_leaf=5) \n",
    "decision_tree_model = decision_tree.fit(X_train, Y_train)  \n",
    "decision_tree_Y_pred = decision_tree.predict(X_test)  \n",
    "\n",
    "acc_decision_tree = round(decision_tree.score(X_train, Y_train) * 100, 2)\n",
    "acc_decision_tree"
   ]
  },
  {
   "cell_type": "code",
   "execution_count": 51,
   "metadata": {},
   "outputs": [
    {
     "data": {
      "text/plain": [
       "96.62"
      ]
     },
     "execution_count": 51,
     "metadata": {},
     "output_type": "execute_result"
    }
   ],
   "source": [
    "#Bagging DT\n",
    "from sklearn.ensemble import BaggingRegressor\n",
    "\n",
    "decision_tree = DecisionTreeRegressor(min_samples_leaf=5)  \n",
    "bc = BaggingRegressor(base_estimator=decision_tree, n_estimators=5,\n",
    "n_jobs=-1)\n",
    "bagging_model = bc.fit(X_train, Y_train)\n",
    "\n",
    "bagging_Y_pred = bc.predict(X_test)\n",
    "\n",
    "acc_bagging = round(bc.score(X_train, Y_train) * 100, 2)\n",
    "acc_bagging"
   ]
  },
  {
   "cell_type": "code",
   "execution_count": 52,
   "metadata": {},
   "outputs": [
    {
     "data": {
      "text/plain": [
       "99.47"
      ]
     },
     "execution_count": 52,
     "metadata": {},
     "output_type": "execute_result"
    }
   ],
   "source": [
    "from sklearn.ensemble import AdaBoostRegressor\n",
    "\n",
    "#Boosting DT\n",
    "ada = AdaBoostRegressor(base_estimator=decision_tree, n_estimators=5, random_state=1)\n",
    "\n",
    "ada_model = ada.fit(X_train, Y_train)\n",
    "\n",
    "ada_Y_pred = ada.predict(X_test)\n",
    "\n",
    "acc_ada = round(ada.score(X_train, Y_train) * 100, 2)\n",
    "acc_ada"
   ]
  },
  {
   "cell_type": "code",
   "execution_count": 53,
   "metadata": {},
   "outputs": [
    {
     "name": "stderr",
     "output_type": "stream",
     "text": [
      "C:\\Users\\Sasha\\Anaconda3\\lib\\site-packages\\sklearn\\preprocessing\\data.py:617: DataConversionWarning: Data with input dtype float32, int32, int64 were all converted to float64 by StandardScaler.\n",
      "  return self.partial_fit(X, y)\n",
      "C:\\Users\\Sasha\\Anaconda3\\lib\\site-packages\\sklearn\\base.py:462: DataConversionWarning: Data with input dtype float32, int32, int64 were all converted to float64 by StandardScaler.\n",
      "  return self.fit(X, **fit_params).transform(X)\n",
      "C:\\Users\\Sasha\\Anaconda3\\lib\\site-packages\\sklearn\\preprocessing\\data.py:617: DataConversionWarning: Data with input dtype float32, int32, int64 were all converted to float64 by StandardScaler.\n",
      "  return self.partial_fit(X, y)\n",
      "C:\\Users\\Sasha\\Anaconda3\\lib\\site-packages\\sklearn\\base.py:462: DataConversionWarning: Data with input dtype float32, int32, int64 were all converted to float64 by StandardScaler.\n",
      "  return self.fit(X, **fit_params).transform(X)\n"
     ]
    }
   ],
   "source": [
    "#rom sklearn.preprocessing import StandardScaler\n",
    "\n",
    "#s = StandardScaler()\n",
    "#caledX_train = pd.DataFrame(ss.fit_transform(X_train),columns = X_train.columns)\n",
    "#caledX_test = pd.DataFrame(ss.fit_transform(X_test),columns = X_test.columns)"
   ]
  },
  {
   "cell_type": "code",
   "execution_count": 54,
   "metadata": {},
   "outputs": [],
   "source": [
    "#scaledY_train = ss.fit_transform(Y_train.values.reshape(-1, 1))\n",
    "#my_list = map(lambda x: x[0], scaledY_train)\n",
    "#scaledY_train = pd.Series(my_list)"
   ]
  },
  {
   "cell_type": "code",
   "execution_count": 55,
   "metadata": {},
   "outputs": [],
   "source": [
    "#Support Vector Machine\n",
    "#I couldn't get SVR to run in a resonable amount of time w or w/o bagging.\n",
    "\n",
    "#from sklearn.ensemble import BaggingRegressor\n",
    "\n",
    "#svr = SVR(gamma='auto') \n",
    "#bc = BaggingRegressor(base_estimator=svr, n_estimators=5,\n",
    "#n_jobs=-1)\n",
    "#bagging_model = bc.fit(scaledX_train, scaledY_train)\n",
    "\n",
    "#bagging_Y_pred = bc.predict(scaledX_test)\n",
    "\n",
    "#acc_bagging = round(bc.score(scaledX_train, scaledY_train) * 100, 2)"
   ]
  },
  {
   "cell_type": "code",
   "execution_count": 56,
   "metadata": {},
   "outputs": [],
   "source": [
    "#Took too long to run.\n",
    "#KNeighbors\n",
    "#knn = KNeighborsRegressor(n_neighbors=3, n_jobs=-1) \n",
    "#knn_model = knn.fit(scaledX_train, scaledY_train)  \n",
    "#knn_Y_pred = knn.predict(scaledX_test)  \n",
    "\n",
    "#acc_knn = round(knn.score(scaledX_train, scaledY_train) * 100, 2)\n",
    "#acc_knn"
   ]
  },
  {
   "cell_type": "code",
   "execution_count": 59,
   "metadata": {},
   "outputs": [
    {
     "data": {
      "text/html": [
       "<div>\n",
       "<style scoped>\n",
       "    .dataframe tbody tr th:only-of-type {\n",
       "        vertical-align: middle;\n",
       "    }\n",
       "\n",
       "    .dataframe tbody tr th {\n",
       "        vertical-align: top;\n",
       "    }\n",
       "\n",
       "    .dataframe thead th {\n",
       "        text-align: right;\n",
       "    }\n",
       "</style>\n",
       "<table border=\"1\" class=\"dataframe\">\n",
       "  <thead>\n",
       "    <tr style=\"text-align: right;\">\n",
       "      <th></th>\n",
       "      <th>Model</th>\n",
       "    </tr>\n",
       "    <tr>\n",
       "      <th>Score</th>\n",
       "      <th></th>\n",
       "    </tr>\n",
       "  </thead>\n",
       "  <tbody>\n",
       "    <tr>\n",
       "      <th>99.47</th>\n",
       "      <td>DT Boosting</td>\n",
       "    </tr>\n",
       "    <tr>\n",
       "      <th>98.68</th>\n",
       "      <td>RandomForestClassifier</td>\n",
       "    </tr>\n",
       "    <tr>\n",
       "      <th>97.30</th>\n",
       "      <td>DecisionTreeClassifier</td>\n",
       "    </tr>\n",
       "    <tr>\n",
       "      <th>96.62</th>\n",
       "      <td>DT Bagging</td>\n",
       "    </tr>\n",
       "    <tr>\n",
       "      <th>63.23</th>\n",
       "      <td>LinearRegression</td>\n",
       "    </tr>\n",
       "  </tbody>\n",
       "</table>\n",
       "</div>"
      ],
      "text/plain": [
       "                        Model\n",
       "Score                        \n",
       "99.47             DT Boosting\n",
       "98.68  RandomForestClassifier\n",
       "97.30  DecisionTreeClassifier\n",
       "96.62              DT Bagging\n",
       "63.23        LinearRegression"
      ]
     },
     "execution_count": 59,
     "metadata": {},
     "output_type": "execute_result"
    }
   ],
   "source": [
    "results = pd.DataFrame({\n",
    "    'Model': ['LinearRegression', 'RandomForestClassifier', 'DecisionTreeClassifier',\n",
    "             'DT Bagging','DT Boosting'],\n",
    "    'Score': [acc_lin,acc_random_forest,acc_decision_tree,acc_bagging,acc_ada]})\n",
    "result_df = results.sort_values(by='Score', ascending=False)\n",
    "result_df = result_df.set_index('Score')\n",
    "result_df"
   ]
  },
  {
   "cell_type": "code",
   "execution_count": 60,
   "metadata": {},
   "outputs": [
    {
     "name": "stdout",
     "output_type": "stream",
     "text": [
      "Scores: [-4.17418567 -1.76906279 -1.91618167 -1.73855291 -1.96943949]\n",
      "Mean: -2.3134845058278772\n",
      "SD: 0.9343839338361681\n"
     ]
    }
   ],
   "source": [
    "#lower is better\n",
    "from sklearn.model_selection import cross_val_score\n",
    "\n",
    "scores = cross_val_score(random_forest, X_train, Y_train, cv=5, scoring = \"neg_mean_squared_error\")\n",
    "print(\"Scores:\", scores)\n",
    "print(\"Mean:\", scores.mean())\n",
    "print(\"SD:\", scores.std())"
   ]
  },
  {
   "cell_type": "code",
   "execution_count": 61,
   "metadata": {},
   "outputs": [
    {
     "name": "stdout",
     "output_type": "stream",
     "text": [
      "Scores: [-4.66675848 -2.5382159  -2.60586895 -2.61564474 -2.50140851]\n",
      "Mean: -2.985579316229228\n",
      "SD: 0.8416591149346492\n"
     ]
    }
   ],
   "source": [
    "scores = cross_val_score(decision_tree, X_train, Y_train, cv=5, scoring = \"neg_mean_squared_error\")\n",
    "print(\"Scores:\", scores)\n",
    "print(\"Mean:\", scores.mean())\n",
    "print(\"SD:\", scores.std())"
   ]
  },
  {
   "cell_type": "code",
   "execution_count": 62,
   "metadata": {},
   "outputs": [
    {
     "name": "stdout",
     "output_type": "stream",
     "text": [
      "Scores: [-4.52365412 -1.98136602 -2.1297949  -1.92068119 -2.08295337]\n",
      "Mean: -2.5276899194020586\n",
      "SD: 1.0006911127487073\n"
     ]
    }
   ],
   "source": [
    "scores = cross_val_score(ada, X_train, Y_train, cv=5, scoring = \"neg_mean_squared_error\")\n",
    "print(\"Scores:\", scores)\n",
    "print(\"Mean:\", scores.mean())\n",
    "print(\"SD:\", scores.std())"
   ]
  },
  {
   "cell_type": "code",
   "execution_count": 71,
   "metadata": {},
   "outputs": [
    {
     "name": "stdout",
     "output_type": "stream",
     "text": [
      "CV RMSE: 1.54\n"
     ]
    }
   ],
   "source": [
    "MSE_CV_scores1 = - cross_val_score(random_forest, X_train, Y_train, cv=5, \n",
    "                                  scoring='neg_mean_squared_error', \n",
    "                                  n_jobs=-1) \n",
    "\n",
    "# Compute the 10-folds CV RMSE\n",
    "RMSE_CV1 = (MSE_CV_scores1.mean())**(1/2)\n",
    "\n",
    "# Print RMSE_CV\n",
    "print('CV RMSE: {:.2f}'.format(RMSE_CV1))"
   ]
  },
  {
   "cell_type": "code",
   "execution_count": 74,
   "metadata": {},
   "outputs": [
    {
     "name": "stdout",
     "output_type": "stream",
     "text": [
      "Train RMSE: 0.50\n"
     ]
    }
   ],
   "source": [
    "from sklearn.metrics import mean_squared_error as MSE\n",
    "\n",
    "# Fit dt to the training set\n",
    "random_forest.fit(X_train, Y_train)\n",
    "\n",
    "# Predict the labels of the training set\n",
    "y_pred_train1 = random_forest.predict(X_train)\n",
    "\n",
    "# Evaluate the training set RMSE of dt\n",
    "RMSE_train1 = (MSE(Y_train, y_pred_train1))**(1/2)\n",
    "\n",
    "# Print RMSE_train\n",
    "print('Train RMSE: {:.2f}'.format(RMSE_train1))"
   ]
  },
  {
   "cell_type": "code",
   "execution_count": null,
   "metadata": {},
   "outputs": [],
   "source": [
    "#cross-validation performance and training performance should be close\n",
    "#If your validation error is high but training error is low, you have overfitting (variance) - THIS\n",
    "#If your validation error and training error are both high, you have underfitting (bias)"
   ]
  },
  {
   "cell_type": "code",
   "execution_count": 85,
   "metadata": {
    "scrolled": true
   },
   "outputs": [
    {
     "data": {
      "text/plain": [
       "{'criterion': 'mse',\n",
       " 'max_depth': 7,\n",
       " 'max_features': 'auto',\n",
       " 'n_estimators': 50}"
      ]
     },
     "execution_count": 85,
     "metadata": {},
     "output_type": "execute_result"
    }
   ],
   "source": [
    "from sklearn.model_selection import GridSearchCV\n",
    "\n",
    "rf=RandomForestRegressor(random_state=42)\n",
    "\n",
    "param_grid = { \n",
    "    'n_estimators': [10, 20, 50],\n",
    "    'max_features': ['auto', 'sqrt', 'log2'],\n",
    "    'max_depth' : [4,5,6,7],\n",
    "    'criterion' :['mse']\n",
    "}\n",
    "\n",
    "CV_rf = GridSearchCV(estimator=rf, param_grid=param_grid, cv= 5, n_jobs=-1)\n",
    "CV_rf.fit(X_train, Y_train)\n",
    "\n",
    "CV_rf.best_params_\n",
    "\n",
    "#{'criterion': 'mse',\n",
    "# 'max_depth': 7,\n",
    "# 'max_features': 'auto',\n",
    "# 'n_estimators': 50}\n",
    "\n",
    "#I ran this several times but ran into processing limitations. It appears that increasing the depth/n-estimators helps."
   ]
  },
  {
   "cell_type": "code",
   "execution_count": 129,
   "metadata": {},
   "outputs": [
    {
     "data": {
      "text/plain": [
       "0.8572676927051401"
      ]
     },
     "execution_count": 129,
     "metadata": {},
     "output_type": "execute_result"
    }
   ],
   "source": [
    "CV_rf.best_score_"
   ]
  },
  {
   "cell_type": "code",
   "execution_count": 86,
   "metadata": {},
   "outputs": [
    {
     "name": "stdout",
     "output_type": "stream",
     "text": [
      "CV RMSE: 1.62\n"
     ]
    }
   ],
   "source": [
    "random_forest=RandomForestRegressor(random_state=42, criterion='mse', max_depth=7, max_features='auto', n_estimators=50)\n",
    "\n",
    "MSE_CV_scores1 = - cross_val_score(random_forest, X_train, Y_train, cv=5, \n",
    "                                  scoring='neg_mean_squared_error', \n",
    "                                  n_jobs=-1) \n",
    "\n",
    "RMSE_CV1 = (MSE_CV_scores1.mean())**(1/2)\n",
    "\n",
    "# Print RMSE_CV\n",
    "print('CV RMSE: {:.2f}'.format(RMSE_CV1))"
   ]
  },
  {
   "cell_type": "code",
   "execution_count": 87,
   "metadata": {},
   "outputs": [
    {
     "name": "stdout",
     "output_type": "stream",
     "text": [
      "Train RMSE: 1.41\n"
     ]
    }
   ],
   "source": [
    "# Fit dt to the training set\n",
    "random_forest.fit(X_train, Y_train)\n",
    "\n",
    "# Predict the labels of the training set\n",
    "y_pred_train1 = random_forest.predict(X_train)\n",
    "\n",
    "# Evaluate the training set RMSE of dt\n",
    "RMSE_train1 = (MSE(Y_train, y_pred_train1))**(1/2)\n",
    "\n",
    "# Print RMSE_train\n",
    "print('Train RMSE: {:.2f}'.format(RMSE_train1))"
   ]
  },
  {
   "cell_type": "code",
   "execution_count": 88,
   "metadata": {},
   "outputs": [
    {
     "name": "stdout",
     "output_type": "stream",
     "text": [
      "CV RMSE: 1.62\n"
     ]
    }
   ],
   "source": [
    "#Increasing n_estimators did not change RMSE this time.\n",
    "random_forest=RandomForestRegressor(random_state=42, criterion='mse', max_depth=7, max_features='auto', n_estimators=100)\n",
    "\n",
    "MSE_CV_scores2 = - cross_val_score(random_forest, X_train, Y_train, cv=5, \n",
    "                                  scoring='neg_mean_squared_error', \n",
    "                                  n_jobs=-1) \n",
    "\n",
    "RMSE_CV2 = (MSE_CV_scores2.mean())**(1/2)\n",
    "\n",
    "# Print RMSE_CV\n",
    "print('CV RMSE: {:.2f}'.format(RMSE_CV1))"
   ]
  },
  {
   "cell_type": "code",
   "execution_count": 89,
   "metadata": {},
   "outputs": [
    {
     "name": "stdout",
     "output_type": "stream",
     "text": [
      "Train RMSE: 1.41\n"
     ]
    }
   ],
   "source": [
    "# Fit dt to the training set\n",
    "random_forest.fit(X_train, Y_train)\n",
    "\n",
    "# Predict the labels of the training set\n",
    "y_pred_train2 = random_forest.predict(X_train)\n",
    "\n",
    "# Evaluate the training set RMSE of dt\n",
    "RMSE_train2 = (MSE(Y_train, y_pred_train1))**(1/2)\n",
    "\n",
    "# Print RMSE_train\n",
    "print('Train RMSE: {:.2f}'.format(RMSE_train2))"
   ]
  },
  {
   "cell_type": "code",
   "execution_count": 130,
   "metadata": {},
   "outputs": [
    {
     "data": {
      "text/plain": [
       "89.63"
      ]
     },
     "execution_count": 130,
     "metadata": {},
     "output_type": "execute_result"
    }
   ],
   "source": [
    "#final model\n",
    "#RandomForestRegressor\n",
    "random_forest = RandomForestRegressor(random_state=42, criterion='mse', max_depth=7, max_features='auto', n_estimators=50)\n",
    "final_rf_model = random_forest.fit(X_train, Y_train)\n",
    "\n",
    "final_random_Y_pred = random_forest.predict(X_test)\n",
    "\n",
    "random_forest.score(X_train, Y_train)\n",
    "final_acc_random_forest = round(random_forest.score(X_train, Y_train) * 100, 2)\n",
    "final_acc_random_forest"
   ]
  },
  {
   "cell_type": "markdown",
   "metadata": {},
   "source": [
    "EXPLANTION\n",
    "\n",
    "My final Random Forest model has lower accuracy than my original. However, I feel like it is less prone to overfit considering the RSMEs of CV and Train. All of the tree models peformed better than Linear Regressison. Random Forest outperforms LR when relationships are not truly linear (which could be the case for some features). Random Forests fit data better from the get-go without transformations. I didn't remove outliers from the data and RF is more tolerant of outliers than LR. There are methods I could have used to tune the LR model but, based on the inital accuracy, I don't think I could have improved it enough to match that of Random Forest."
   ]
  },
  {
   "cell_type": "code",
   "execution_count": 136,
   "metadata": {
    "scrolled": true
   },
   "outputs": [
    {
     "data": {
      "text/html": [
       "<div>\n",
       "<style scoped>\n",
       "    .dataframe tbody tr th:only-of-type {\n",
       "        vertical-align: middle;\n",
       "    }\n",
       "\n",
       "    .dataframe tbody tr th {\n",
       "        vertical-align: top;\n",
       "    }\n",
       "\n",
       "    .dataframe thead th {\n",
       "        text-align: right;\n",
       "    }\n",
       "</style>\n",
       "<table border=\"1\" class=\"dataframe\">\n",
       "  <thead>\n",
       "    <tr style=\"text-align: right;\">\n",
       "      <th></th>\n",
       "      <th>X1</th>\n",
       "      <th>X2</th>\n",
       "      <th>X3</th>\n",
       "      <th>X4</th>\n",
       "      <th>X5</th>\n",
       "      <th>X6</th>\n",
       "      <th>X7</th>\n",
       "      <th>X8</th>\n",
       "      <th>X9</th>\n",
       "      <th>X10</th>\n",
       "      <th>...</th>\n",
       "      <th>X23</th>\n",
       "      <th>X24</th>\n",
       "      <th>X25</th>\n",
       "      <th>X26</th>\n",
       "      <th>X27</th>\n",
       "      <th>X28</th>\n",
       "      <th>X29</th>\n",
       "      <th>X30</th>\n",
       "      <th>X31</th>\n",
       "      <th>X32</th>\n",
       "    </tr>\n",
       "  </thead>\n",
       "  <tbody>\n",
       "    <tr>\n",
       "      <th>0</th>\n",
       "      <td>14.990000</td>\n",
       "      <td>44409194</td>\n",
       "      <td>47416907</td>\n",
       "      <td>$6,000</td>\n",
       "      <td>$6,000</td>\n",
       "      <td>$6,000</td>\n",
       "      <td>36 months</td>\n",
       "      <td>C</td>\n",
       "      <td>C5</td>\n",
       "      <td>Electrician</td>\n",
       "      <td>...</td>\n",
       "      <td>2-Nov</td>\n",
       "      <td>1</td>\n",
       "      <td>26.0</td>\n",
       "      <td>NaN</td>\n",
       "      <td>18</td>\n",
       "      <td>0</td>\n",
       "      <td>19861</td>\n",
       "      <td>64.50%</td>\n",
       "      <td>33</td>\n",
       "      <td>f</td>\n",
       "    </tr>\n",
       "    <tr>\n",
       "      <th>1</th>\n",
       "      <td>5.997592</td>\n",
       "      <td>44017917</td>\n",
       "      <td>47034722</td>\n",
       "      <td>$24,000</td>\n",
       "      <td>$24,000</td>\n",
       "      <td>$24,000</td>\n",
       "      <td>36 months</td>\n",
       "      <td>A</td>\n",
       "      <td>A1</td>\n",
       "      <td>Executive Assistant</td>\n",
       "      <td>...</td>\n",
       "      <td>Dec-68</td>\n",
       "      <td>1</td>\n",
       "      <td>NaN</td>\n",
       "      <td>NaN</td>\n",
       "      <td>12</td>\n",
       "      <td>0</td>\n",
       "      <td>17001</td>\n",
       "      <td>26.20%</td>\n",
       "      <td>36</td>\n",
       "      <td>w</td>\n",
       "    </tr>\n",
       "    <tr>\n",
       "      <th>2</th>\n",
       "      <td>13.349668</td>\n",
       "      <td>44259158</td>\n",
       "      <td>47306871</td>\n",
       "      <td>$35,000</td>\n",
       "      <td>$35,000</td>\n",
       "      <td>$35,000</td>\n",
       "      <td>36 months</td>\n",
       "      <td>C</td>\n",
       "      <td>C2</td>\n",
       "      <td>District Sales Leader</td>\n",
       "      <td>...</td>\n",
       "      <td>Oct-98</td>\n",
       "      <td>0</td>\n",
       "      <td>NaN</td>\n",
       "      <td>NaN</td>\n",
       "      <td>16</td>\n",
       "      <td>0</td>\n",
       "      <td>25797</td>\n",
       "      <td>49.90%</td>\n",
       "      <td>33</td>\n",
       "      <td>w</td>\n",
       "    </tr>\n",
       "    <tr>\n",
       "      <th>3</th>\n",
       "      <td>15.609678</td>\n",
       "      <td>44429213</td>\n",
       "      <td>47476932</td>\n",
       "      <td>$10,000</td>\n",
       "      <td>$10,000</td>\n",
       "      <td>$10,000</td>\n",
       "      <td>60 months</td>\n",
       "      <td>D</td>\n",
       "      <td>D1</td>\n",
       "      <td>pharmacy associate</td>\n",
       "      <td>...</td>\n",
       "      <td>Feb-99</td>\n",
       "      <td>1</td>\n",
       "      <td>NaN</td>\n",
       "      <td>114.0</td>\n",
       "      <td>13</td>\n",
       "      <td>1</td>\n",
       "      <td>9586</td>\n",
       "      <td>43.80%</td>\n",
       "      <td>21</td>\n",
       "      <td>w</td>\n",
       "    </tr>\n",
       "    <tr>\n",
       "      <th>4</th>\n",
       "      <td>9.169606</td>\n",
       "      <td>44299188</td>\n",
       "      <td>47346901</td>\n",
       "      <td>$24,000</td>\n",
       "      <td>$24,000</td>\n",
       "      <td>$24,000</td>\n",
       "      <td>60 months</td>\n",
       "      <td>B</td>\n",
       "      <td>B1</td>\n",
       "      <td>Medical case manager</td>\n",
       "      <td>...</td>\n",
       "      <td>2-Dec</td>\n",
       "      <td>0</td>\n",
       "      <td>48.0</td>\n",
       "      <td>NaN</td>\n",
       "      <td>27</td>\n",
       "      <td>0</td>\n",
       "      <td>31842</td>\n",
       "      <td>41.30%</td>\n",
       "      <td>43</td>\n",
       "      <td>w</td>\n",
       "    </tr>\n",
       "  </tbody>\n",
       "</table>\n",
       "<p>5 rows × 32 columns</p>\n",
       "</div>"
      ],
      "text/plain": [
       "          X1        X2        X3       X4       X5       X6          X7 X8  \\\n",
       "0  14.990000  44409194  47416907   $6,000   $6,000   $6,000   36 months  C   \n",
       "1   5.997592  44017917  47034722  $24,000  $24,000  $24,000   36 months  A   \n",
       "2  13.349668  44259158  47306871  $35,000  $35,000  $35,000   36 months  C   \n",
       "3  15.609678  44429213  47476932  $10,000  $10,000  $10,000   60 months  D   \n",
       "4   9.169606  44299188  47346901  $24,000  $24,000  $24,000   60 months  B   \n",
       "\n",
       "   X9                    X10 ...     X23 X24   X25    X26 X27 X28    X29  \\\n",
       "0  C5            Electrician ...   2-Nov   1  26.0    NaN  18   0  19861   \n",
       "1  A1    Executive Assistant ...  Dec-68   1   NaN    NaN  12   0  17001   \n",
       "2  C2  District Sales Leader ...  Oct-98   0   NaN    NaN  16   0  25797   \n",
       "3  D1     pharmacy associate ...  Feb-99   1   NaN  114.0  13   1   9586   \n",
       "4  B1   Medical case manager ...   2-Dec   0  48.0    NaN  27   0  31842   \n",
       "\n",
       "      X30 X31 X32  \n",
       "0  64.50%  33   f  \n",
       "1  26.20%  36   w  \n",
       "2  49.90%  33   w  \n",
       "3  43.80%  21   w  \n",
       "4  41.30%  43   w  \n",
       "\n",
       "[5 rows x 32 columns]"
      ]
     },
     "execution_count": 136,
     "metadata": {},
     "output_type": "execute_result"
    }
   ],
   "source": [
    "final_results = pd.read_csv(\"loan_holdout.csv\")\n",
    "final_results['X1'] = final_random_Y_pred\n",
    "final_results.head()"
   ]
  },
  {
   "cell_type": "code",
   "execution_count": 138,
   "metadata": {},
   "outputs": [
    {
     "data": {
      "text/html": [
       "<div>\n",
       "<style scoped>\n",
       "    .dataframe tbody tr th:only-of-type {\n",
       "        vertical-align: middle;\n",
       "    }\n",
       "\n",
       "    .dataframe tbody tr th {\n",
       "        vertical-align: top;\n",
       "    }\n",
       "\n",
       "    .dataframe thead th {\n",
       "        text-align: right;\n",
       "    }\n",
       "</style>\n",
       "<table border=\"1\" class=\"dataframe\">\n",
       "  <thead>\n",
       "    <tr style=\"text-align: right;\">\n",
       "      <th></th>\n",
       "      <th>X1</th>\n",
       "      <th>X2</th>\n",
       "    </tr>\n",
       "  </thead>\n",
       "  <tbody>\n",
       "    <tr>\n",
       "      <th>0</th>\n",
       "      <td>14.990000</td>\n",
       "      <td>44409194</td>\n",
       "    </tr>\n",
       "    <tr>\n",
       "      <th>1</th>\n",
       "      <td>5.997592</td>\n",
       "      <td>44017917</td>\n",
       "    </tr>\n",
       "    <tr>\n",
       "      <th>2</th>\n",
       "      <td>13.349668</td>\n",
       "      <td>44259158</td>\n",
       "    </tr>\n",
       "    <tr>\n",
       "      <th>3</th>\n",
       "      <td>15.609678</td>\n",
       "      <td>44429213</td>\n",
       "    </tr>\n",
       "    <tr>\n",
       "      <th>4</th>\n",
       "      <td>9.169606</td>\n",
       "      <td>44299188</td>\n",
       "    </tr>\n",
       "    <tr>\n",
       "      <th>5</th>\n",
       "      <td>10.989846</td>\n",
       "      <td>44057008</td>\n",
       "    </tr>\n",
       "    <tr>\n",
       "      <th>6</th>\n",
       "      <td>13.979902</td>\n",
       "      <td>41399898</td>\n",
       "    </tr>\n",
       "    <tr>\n",
       "      <th>7</th>\n",
       "      <td>10.148139</td>\n",
       "      <td>43801789</td>\n",
       "    </tr>\n",
       "    <tr>\n",
       "      <th>8</th>\n",
       "      <td>14.488725</td>\n",
       "      <td>44409120</td>\n",
       "    </tr>\n",
       "    <tr>\n",
       "      <th>9</th>\n",
       "      <td>6.544837</td>\n",
       "      <td>44319155</td>\n",
       "    </tr>\n",
       "  </tbody>\n",
       "</table>\n",
       "</div>"
      ],
      "text/plain": [
       "          X1        X2\n",
       "0  14.990000  44409194\n",
       "1   5.997592  44017917\n",
       "2  13.349668  44259158\n",
       "3  15.609678  44429213\n",
       "4   9.169606  44299188\n",
       "5  10.989846  44057008\n",
       "6  13.979902  41399898\n",
       "7  10.148139  43801789\n",
       "8  14.488725  44409120\n",
       "9   6.544837  44319155"
      ]
     },
     "execution_count": 138,
     "metadata": {},
     "output_type": "execute_result"
    }
   ],
   "source": [
    "final_results = final_results.iloc[:,0:2]\n",
    "final_results.head(10)"
   ]
  },
  {
   "cell_type": "code",
   "execution_count": 139,
   "metadata": {},
   "outputs": [],
   "source": [
    "final_results.to_csv('Loan Results from Sasha Roberts.csv', index=False, header=True)"
   ]
  }
 ],
 "metadata": {
  "kernelspec": {
   "display_name": "Python 3",
   "language": "python",
   "name": "python3"
  },
  "language_info": {
   "codemirror_mode": {
    "name": "ipython",
    "version": 3
   },
   "file_extension": ".py",
   "mimetype": "text/x-python",
   "name": "python",
   "nbconvert_exporter": "python",
   "pygments_lexer": "ipython3",
   "version": "3.6.6"
  }
 },
 "nbformat": 4,
 "nbformat_minor": 2
}
